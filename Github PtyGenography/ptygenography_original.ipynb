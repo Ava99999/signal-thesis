{
 "cells": [
  {
   "cell_type": "code",
   "execution_count": 1,
   "metadata": {},
   "outputs": [],
   "source": [
    "import matplotlib.pyplot as plt\n",
    "import numpy as np\n",
    "from scipy.sparse.linalg import LinearOperator\n",
    "from scipy.fft import fft2, ifft2\n",
    "from scipy.optimize import minimize\n",
    "from sklearn import datasets"
   ]
  },
  {
   "cell_type": "markdown",
   "metadata": {},
   "source": [
    "Consider retrieving $x \\in \\mathbb{C}^n$ from measurements\n",
    "\n",
    "$$y = \\mathcal{A}(x) + \\epsilon,$$\n",
    "\n",
    "by solving\n",
    "\n",
    "$$\\min_z J(z), \\quad J(z)  = \\|\\mathcal{A}\\circ \\mathcal{G} (z) - y\\|_2^2 + \\lambda^2\\|z\\|_2^2,$$\n",
    "\n",
    "where $\\mathcal{G}$ is a generative model.\n",
    "\n",
    "The gradient of $J$ is given by\n",
    "\n",
    "$$\\nabla J(z) = \\left(\\mathcal{G}'(z)\\right)^*\\left(\\mathcal{A}'(x)\\right)^*\\left(\\mathcal{A}\\circ \\mathcal{G} (z) - y\\right),$$\n",
    "\n",
    "with $x = \\mathcal{G}(z)$ and $\\mathcal{G}'(z)$ the Jacobian of $\\mathcal{G}$ and $\\mathcal{A}'(x)$ the Jacobian of $\\mathcal{A}$. \n",
    "\n",
    "We typically consider \n",
    "\n",
    "$$\\mathcal{A}(x) = |Ax|^2,$$\n",
    "\n",
    "for some given matrix $A \\in \\mathbb{C}^{m\\times n}$. In that case we have\n",
    "\n",
    "$$\\mathcal{A}'(x) = 2\\text{diag}(Ax)\\overline{A}.$$\n",
    "\n",
    "We take $A$ to be a masked Fourier transform, in which case it is given by\n",
    "\n",
    "$$A = \\left(\\begin{matrix} FM_1 \\\\ FM_2 \\\\ \\vdots \\\\ FM_m\\end{matrix}\\right),$$\n",
    "\n",
    "with $F \\in \\mathbb{C}^{n\\times n}$ the 2D Fourier transform and $M_i \\in \\mathbb{C}^{n\\times n}$ a diagonal matrix containing a mask.\n",
    "\n",
    "A simple generative model can be obtained as\n",
    "\n",
    "$$\\mathcal{G}(z) = \\mu + Sz, $$\n",
    "\n",
    "with $\\mu$ the mean of the training samples, and $S$ a Cholesky factorisation of the sample covariance matrix (i.e., $\\Sigma = SS^*$.)\n",
    "\n",
    "We can also let $\\mathcal{G}(z) = z$ and $\\mathcal{G}(z) = \\mu + Sz_1 + z_2$."
   ]
  },
  {
   "cell_type": "code",
   "execution_count": 2,
   "metadata": {},
   "outputs": [],
   "source": [
    "class Op:\n",
    "    def __init__(self, fun, jac, shape):\n",
    "        self.eval = fun\n",
    "        self.jac = jac\n",
    "        self.shape = shape\n",
    "        \n",
    "def objective(z, y, A, G, w=1, lmbda = 0):\n",
    "    \"\"\"\n",
    "    LS objective\n",
    "        (0.5)*\\|A(G(z)) - y\\|_2^2 + 0.5*lmbda**2*\\|w*z\\|_2^2\n",
    "    \"\"\"\n",
    "    if len(y) != A.shape[0]:\n",
    "        print(\"y and A don't match\")\n",
    "        return\n",
    "    if len(z)//2 != G.shape[1]:\n",
    "        print(\"z and G don't match\")\n",
    "        return\n",
    "    if A.shape[1] != G.shape[0]:\n",
    "        print(\"A and G don't match!\")\n",
    "        return\n",
    "    \n",
    "    k  = len(z)//2\n",
    "    zc = z[:k] + 1j*z[k:]\n",
    "    \n",
    "    xc = G.eval(zc)\n",
    "    Dx = G.jac(zc)\n",
    "    \n",
    "    yp = A.eval(xc)\n",
    "    Dy = A.jac(xc)\n",
    "\n",
    "    val    = (0.5)*np.linalg.norm(yp - y)**2 + (0.5*lmbda**2)*np.linalg.norm(w*zc)**2\n",
    "    gradc  = Dx.H@(Dy.H@(yp - y)) + (lmbda**2)*(w*w)*zc\n",
    "    \n",
    "    grad  = np.concatenate((np.real(gradc), np.imag(gradc)))\n",
    "    \n",
    "    return val, grad\n",
    "\n",
    "def reconstruct(xtrue, A, G, w=1, sigma=0, lmbda=0):\n",
    "    # sizes\n",
    "    m,n = A.shape\n",
    "    n,k = G.shape\n",
    "    \n",
    "    # generate data\n",
    "    yobs  = A.eval(xtrue) + sigma*np.random.randn(m)\n",
    "\n",
    "    # inference\n",
    "    result = minimize(objective, x0=np.ones(2*k), args=(yobs, A, G, w, lmbda), method='L-BFGS-B', jac=True)\n",
    "    \n",
    "    # result\n",
    "    zhat = result.x[:k] + 1j*result.x[k:]\n",
    "    xhat = G.eval(zhat)\n",
    "    \n",
    "    # correct global phase\n",
    "    phi = np.mean(np.angle(xtrue/xhat))\n",
    "    xhat_corr = np.exp(1j*phi)*xhat\n",
    "    \n",
    "    # relative error\n",
    "    error = np.linalg.norm(xhat_corr - xtrue)/np.linalg.norm(xtrue)\n",
    "    \n",
    "    # return\n",
    "    return error, xhat_corr, yobs, result\n",
    "\n",
    "def plot_result(xtrue, xhat):\n",
    "    n  = len(xtrue)\n",
    "    nx = int(np.sqrt(n))\n",
    "    \n",
    "    # plot results\n",
    "    fig, ax = plt.subplots(2,2)\n",
    "\n",
    "    ax[0,0].imshow(np.real(xtrue.reshape((nx,nx))),clim=[0,1])\n",
    "    ax[0,0].set_title(r'$\\Re(x_{true})$')\n",
    "    ax[1,0].imshow(np.imag(xtrue.reshape((nx,nx))),clim=[0,1])\n",
    "    ax[1,0].set_title(r'$\\Im(x_{true})$')\n",
    "    ax[0,1].imshow(np.real(xhat.reshape((nx,nx))),clim=[0,1])\n",
    "    ax[0,1].set_title(r'$\\Re(x_{est})$')\n",
    "    ax[1,1].imshow(np.imag(xhat.reshape((nx,nx))),clim=[0,1])\n",
    "    ax[1,1].set_title(r'$\\Im(x_{est})$')\n",
    "\n",
    "    fig.tight_layout()"
   ]
  },
  {
   "cell_type": "code",
   "execution_count": 3,
   "metadata": {},
   "outputs": [],
   "source": [
    "def MaskedFourier(M):\n",
    "    \"\"\"\n",
    "    Defined masked 2D fourier transform as linear operator.\n",
    "    \n",
    "    input:\n",
    "        M - 3D array of size n x n x m containing m masks of size n x n\n",
    "        \n",
    "    out:\n",
    "        A - linear operator representing the masked Fourier transforms\n",
    "        \n",
    "    \n",
    "    \"\"\"\n",
    "    nx = M.shape[0]\n",
    "    mx = M.shape[2]\n",
    "    \n",
    "    mv  = lambda x : fft2(M*(x.reshape((nx,nx,1))), axes=(0,1)).flatten()\n",
    "    rmv = lambda y : nx*nx*np.sum(np.conj(M)*ifft2(y.reshape((nx,nx,mx)), axes=(0,1)),axis=2).flatten()\n",
    "    A   = LinearOperator((mx*nx*nx, nx*nx), matvec=mv, rmatvec=rmv)\n",
    "    \n",
    "    return A"
   ]
  },
  {
   "cell_type": "code",
   "execution_count": 4,
   "metadata": {},
   "outputs": [],
   "source": [
    "# load data set of 3's\n",
    "(digits, cls) = datasets.load_digits(return_X_y=True)\n",
    "X = np.ones((183, 64)) + 1j*digits[np.where(cls==3)[0],:]/16\n",
    "\n",
    "n = X.shape[1]\n",
    "nx = int(np.sqrt(n))"
   ]
  },
  {
   "cell_type": "code",
   "execution_count": 5,
   "metadata": {},
   "outputs": [
    {
     "data": {
      "image/png": "[encoded data removed]",
      "text/plain": [
       "<Figure size 432x288 with 10 Axes>"
      ]
     },
     "metadata": {},
     "output_type": "display_data"
    }
   ],
   "source": [
    "ns = 5\n",
    "fig, ax = plt.subplots(2,ns)\n",
    "\n",
    "for i in range(ns):\n",
    "    x = X[i]\n",
    "    ax[0,i].imshow(np.real(x).reshape((nx,nx)),clim=[0,1])\n",
    "    ax[0,i].set_xticks([])\n",
    "    ax[0,i].set_yticks([])\n",
    "    ax[1,i].imshow(np.imag(x).reshape((nx,nx)),clim=[0,1])\n",
    "    ax[1,i].set_xticks([])\n",
    "    ax[1,i].set_yticks([])\n",
    "fig.tight_layout()\n",
    "\n",
    "plt.savefig('example1_data.png',dpi=300)"
   ]
  },
  {
   "cell_type": "code",
   "execution_count": 6,
   "metadata": {},
   "outputs": [],
   "source": [
    "# get prior\n",
    "mu    = np.mean(X,axis=0)\n",
    "Sigma = np.conj((X-mu).T)@(X-mu)/X.shape[0]\n",
    "s, U = np.linalg.eigh(Sigma + 1e-6*np.eye(n))\n",
    "\n",
    "k = 30\n",
    "B = U[:,-k:]@np.diag(np.sqrt(s[-k:]))\n",
    "\n",
    "C = np.concatenate((np.real(B), np.eye(n)), axis=1)\n",
    "\n",
    "# define generative models\n",
    "G = Op(fun = lambda z : mu + B@z, jac = lambda z : LinearOperator((n, k), matvec = lambda z : B@z, rmatvec = lambda z : np.conj(B.T)@z), shape=(n,k))\n",
    "I = Op(fun = lambda z : z, jac = lambda z: LinearOperator((n, n), matvec = lambda z : z, rmatvec = lambda z : z), shape=(n,n))\n",
    "H = Op(fun = lambda z : mu + C@z, jac = lambda z : LinearOperator((n, k+n), matvec = lambda z : C@z, rmatvec = lambda z : np.conj(C.T)@z), shape=(n,k+n))\n",
    "\n",
    "# define weights\n",
    "w = 1"
   ]
  },
  {
   "cell_type": "code",
   "execution_count": 7,
   "metadata": {},
   "outputs": [
    {
     "data": {
      "image/png": "[encoded data removed]",
      "text/plain": [
       "<Figure size 432x288 with 10 Axes>"
      ]
     },
     "metadata": {},
     "output_type": "display_data"
    }
   ],
   "source": [
    "ns = 5\n",
    "fig, ax = plt.subplots(2,ns)\n",
    "\n",
    "for i in range(ns):\n",
    "    z = np.random.randn(k) + 1j*np.random.randn(k)\n",
    "    x = G.eval(z)\n",
    "    ax[0,i].imshow(np.real(x).reshape((nx,nx)),clim=[0,1])\n",
    "    ax[0,i].set_xticks([])\n",
    "    ax[0,i].set_yticks([])\n",
    "    ax[1,i].imshow(np.imag(x).reshape((nx,nx)),clim=[0,1])\n",
    "    ax[1,i].set_xticks([])\n",
    "    ax[1,i].set_yticks([])\n",
    "fig.tight_layout()\n",
    "\n",
    "plt.savefig('example1_generative.png',dpi=300)"
   ]
  },
  {
   "cell_type": "code",
   "execution_count": 8,
   "metadata": {},
   "outputs": [],
   "source": [
    "# define forward operator\n",
    "mx = 100\n",
    "m  = mx * n\n",
    "\n",
    "M = np.random.randn(nx,nx,mx)\n",
    "M[M<0]=0\n",
    "M[M>0]=1\n",
    "\n",
    "MF   = MaskedFourier(M)\n",
    "Afun = lambda x : np.abs(MF@x)**2\n",
    "Ajac = lambda x : LinearOperator((m, n), matvec=lambda z : 2*(MF@x)*np.conj(MF@np.conj(z)), rmatvec=lambda z : 2*(MF.H@((MF@x)*z)))\n",
    "\n",
    "A    = Op(fun = Afun, jac = Ajac, shape=(m,n))"
   ]
  },
  {
   "cell_type": "code",
   "execution_count": 9,
   "metadata": {},
   "outputs": [
    {
     "data": {
      "image/png": "[encoded data removed]",
      "text/plain": [
       "<Figure size 432x288 with 5 Axes>"
      ]
     },
     "metadata": {},
     "output_type": "display_data"
    }
   ],
   "source": [
    "# plot some of the masks\n",
    "ns = 5\n",
    "fig, ax = plt.subplots(1,ns)\n",
    "\n",
    "for i in range(ns):\n",
    "    z = np.random.randn(k) + 1j*np.random.randn(k)\n",
    "    x = G.eval(z)\n",
    "    ax[i].imshow(M[:,:,i],clim=[0,1])\n",
    "    ax[i].set_xticks([])\n",
    "    ax[i].set_yticks([])\n",
    "fig.tight_layout()\n",
    "\n",
    "plt.savefig('example1_masks.png',dpi=300)"
   ]
  },
  {
   "cell_type": "code",
   "execution_count": 10,
   "metadata": {},
   "outputs": [
    {
     "name": "stdout",
     "output_type": "stream",
     "text": [
      "1.0023377970085202e-06\n"
     ]
    },
    {
     "data": {
      "text/plain": [
       "<matplotlib.legend.Legend at 0x7fd6ef8a9cd0>"
      ]
     },
     "execution_count": 10,
     "metadata": {},
     "output_type": "execute_result"
    },
    {
     "data": {
      "image/png": "[encoded data removed]",
      "text/plain": [
       "<Figure size 432x288 with 1 Axes>"
      ]
     },
     "metadata": {
      "needs_background": "light"
     },
     "output_type": "display_data"
    }
   ],
   "source": [
    "# gradient test\n",
    "h = 1e-8\n",
    "\n",
    "k  = G.shape[1]\n",
    "zt = np.random.randn(2*k)\n",
    "yt = np.random.randn(A.shape[0])\n",
    "\n",
    "obj = lambda z : objective(z, yt, A, G)\n",
    "\n",
    "val, grad = obj(zt)\n",
    "\n",
    "grad_fd = np.zeros(2*k)\n",
    "for i in range(2*k):\n",
    "    e = np.zeros(2*k)\n",
    "    e[i] = 1\n",
    "    \n",
    "    grad_fd[i] = (obj(zt+h*e)[0] - obj(zt-h*e)[0])/(2*h)\n",
    "\n",
    "print(np.linalg.norm(grad_fd - grad) / np.linalg.norm(grad))\n",
    "\n",
    "plt.plot(grad, label='computed')\n",
    "plt.plot(grad_fd, label='fd')\n",
    "plt.legend()"
   ]
  },
  {
   "cell_type": "code",
   "execution_count": 11,
   "metadata": {},
   "outputs": [
    {
     "data": {
      "image/png": "[encoded data removed]",
      "text/plain": [
       "<Figure size 432x288 with 4 Axes>"
      ]
     },
     "metadata": {
      "needs_background": "light"
     },
     "output_type": "display_data"
    }
   ],
   "source": [
    "# reconstruct without generative model and plot result\n",
    "xtrue = X[0]\n",
    "error, xhat, yobs, result = reconstruct(xtrue, A, G)\n",
    "\n",
    "plot_result(xtrue, xhat)"
   ]
  },
  {
   "cell_type": "code",
   "execution_count": 12,
   "metadata": {},
   "outputs": [],
   "source": [
    "# scan over noise levels with and without generative model on in-distribution gt\n",
    "ns     = 10\n",
    "sigmas = np.logspace(-6,6,10)\n",
    "\n",
    "errors_i = np.zeros((len(sigmas),ns))\n",
    "xhats_i  = np.zeros((len(sigmas),ns, n),dtype='complex')\n",
    "\n",
    "errors_g = np.zeros((len(sigmas),ns))\n",
    "xhats_g  = np.zeros((len(sigmas),ns, n),dtype='complex')\n",
    "\n",
    "errors_c = np.zeros((len(sigmas),ns))\n",
    "xhats_c  = np.zeros((len(sigmas),ns, n),dtype='complex')\n",
    "\n",
    "for i in range(len(sigmas)):\n",
    "    for j in range(ns):\n",
    "        xtrue = G.eval(np.random.randn(k) + 1j*np.random.randn(k))\n",
    "\n",
    "        errors_i[i,j], xhats_i[i,j,:], _, _ = reconstruct(xtrue, A, I, w=1, sigma=sigmas[i], lmbda=sigmas[i])\n",
    "        errors_g[i,j], xhats_g[i,j,:], _, _ = reconstruct(xtrue, A, G, w=1, sigma=sigmas[i], lmbda=sigmas[i])\n",
    "        errors_c[i,j], xhats_c[i,j,:], _, _ = reconstruct(xtrue, A, H, w=1, sigma=sigmas[i], lmbda=1e1*sigmas[i])"
   ]
  },
  {
   "cell_type": "code",
   "execution_count": 13,
   "metadata": {},
   "outputs": [
    {
     "data": {
      "image/png": "[encoded data removed]",
      "text/plain": [
       "<Figure size 432x288 with 1 Axes>"
      ]
     },
     "metadata": {
      "needs_background": "light"
     },
     "output_type": "display_data"
    }
   ],
   "source": [
    "fig, ax = plt.subplots(1)\n",
    "\n",
    "ax.loglog(sigmas, np.mean(errors_i,axis=1), 'b', label='w/o gen. model')\n",
    "ax.loglog(sigmas, errors_i, 'b', alpha=1/ns)\n",
    "\n",
    "ax.loglog(sigmas, np.mean(errors_g,axis=1), 'r', label='w. gen. model ($k=$%d)'%k)\n",
    "ax.loglog(sigmas, errors_g, 'r', alpha=1/ns)\n",
    "\n",
    "ax.loglog(sigmas, np.mean(errors_c,axis=1), 'k', label='combined')\n",
    "ax.loglog(sigmas, errors_c, 'k', alpha=1/ns)\n",
    "\n",
    "ax.set_xlabel(r'$\\sigma$')\n",
    "ax.set_ylabel('rel. error')\n",
    "ax.set_title('reconstruction of in-distribution ground truth')\n",
    "ax.legend()\n",
    "\n",
    "plt.savefig('example1_recon1.png', dpi=300)"
   ]
  },
  {
   "cell_type": "code",
   "execution_count": 14,
   "metadata": {},
   "outputs": [],
   "source": [
    "# scan over noise levels with and without generative model on out-of-distribution gt\n",
    "ns     = 10\n",
    "sigmas = np.logspace(-6,6,10)\n",
    "\n",
    "errors_i = np.zeros((len(sigmas),ns))\n",
    "xhats_i  = np.zeros((len(sigmas),ns, n),dtype='complex')\n",
    "\n",
    "errors_g = np.zeros((len(sigmas),ns))\n",
    "xhats_g  = np.zeros((len(sigmas),ns, n),dtype='complex')\n",
    "\n",
    "errors_c = np.zeros((len(sigmas),ns))\n",
    "xhats_c  = np.zeros((len(sigmas),ns, n),dtype='complex')\n",
    "\n",
    "for i in range(len(sigmas)):\n",
    "    for j in range(ns):\n",
    "        xtrue = X[np.random.randint(0,X.shape[0])]\n",
    "        errors_i[i,j], xhats_i[i,j,:], _, _ = reconstruct(xtrue, A, I, w=1, sigma=sigmas[i], lmbda=sigmas[i])\n",
    "        errors_g[i,j], xhats_g[i,j,:], _, _ = reconstruct(xtrue, A, G, w=1, sigma=sigmas[i], lmbda=sigmas[i])\n",
    "        errors_c[i,j], xhats_c[i,j,:], _, _ = reconstruct(xtrue, A, H, w=1, sigma=sigmas[i], lmbda=1e1*sigmas[i])"
   ]
  },
  {
   "cell_type": "code",
   "execution_count": 15,
   "metadata": {},
   "outputs": [
    {
     "data": {
      "image/png": "[encoded data removed]",
      "text/plain": [
       "<Figure size 432x288 with 1 Axes>"
      ]
     },
     "metadata": {
      "needs_background": "light"
     },
     "output_type": "display_data"
    }
   ],
   "source": [
    "fig, ax = plt.subplots(1)\n",
    "\n",
    "ax.loglog(sigmas, np.mean(errors_i,axis=1), 'b', label='w/o gen. model')\n",
    "ax.loglog(sigmas, errors_i, 'b', alpha=1/ns)\n",
    "\n",
    "ax.loglog(sigmas, np.mean(errors_g,axis=1), 'r', label='w. gen. model ($k=$%d)'%k)\n",
    "ax.loglog(sigmas, errors_g, 'r', alpha=1/ns)\n",
    "\n",
    "ax.loglog(sigmas, np.mean(errors_c,axis=1), 'k', label='combined')\n",
    "ax.loglog(sigmas, errors_c, 'k', alpha=1/ns)\n",
    "\n",
    "ax.set_xlabel(r'$\\sigma$')\n",
    "ax.set_ylabel('rel. error')\n",
    "ax.set_title('reconstruction of out-of-distribution ground truth')\n",
    "\n",
    "ax.legend()\n",
    "plt.savefig('example1_recon2.png', dpi=300)"
   ]
  }
 ],
 "metadata": {
  "kernelspec": {
   "display_name": "Python 3",
   "language": "python",
   "name": "python3"
  },
  "language_info": {
   "codemirror_mode": {
    "name": "ipython",
    "version": 3
   },
   "file_extension": ".py",
   "mimetype": "text/x-python",
   "name": "python",
   "nbconvert_exporter": "python",
   "pygments_lexer": "ipython3",
   "version": "3.8.5"
  }
 },
 "nbformat": 4,
 "nbformat_minor": 5
}
