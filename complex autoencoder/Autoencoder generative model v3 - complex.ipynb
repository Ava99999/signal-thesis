{
 "cells": [
  {
   "cell_type": "code",
   "execution_count": 28,
   "id": "e465fce9",
   "metadata": {},
   "outputs": [],
   "source": [
    "#%load_ext autoreload\n",
    "%reload_ext autoreload\n",
    "%autoreload 2\n",
    "\n",
    "import tensorflow as tf\n",
    "import matplotlib.pyplot as plt\n",
    "import numpy as np\n",
    "import pandas as pd\n",
    "import scipy\n",
    "import random\n",
    "import cmath\n",
    "#import pylops # might not need\n",
    "import math\n",
    "import pyproximal\n",
    "\n",
    "from sklearn.metrics import accuracy_score, precision_score, recall_score\n",
    "from sklearn.model_selection import train_test_split\n",
    "from tensorflow.keras import layers, losses\n",
    "from tensorflow.keras.datasets import fashion_mnist, mnist\n",
    "from tensorflow.keras.models import Model\n",
    "from tensorflow.keras.saving import register_keras_serializable, deserialize_keras_object\n",
    "from tensorflow.test import compute_gradient\n",
    "\n",
    "from scipy.sparse.linalg import LinearOperator\n",
    "from scipy.fft import fft, ifft, fft2, ifft2\n",
    "from scipy.optimize import minimize\n",
    "\n",
    "import autosetup"
   ]
  },
  {
   "cell_type": "code",
   "execution_count": 2,
   "id": "6243d911",
   "metadata": {},
   "outputs": [
    {
     "name": "stdout",
     "output_type": "stream",
     "text": [
      "TensorFlow version: 2.19.0\n"
     ]
    }
   ],
   "source": [
    "print(\"TensorFlow version:\", tf.__version__)"
   ]
  },
  {
   "cell_type": "markdown",
   "id": "9ed190db",
   "metadata": {},
   "source": [
    "Some nice tensorflow links\n",
    "https://www.tensorflow.org/guide/keras/making_new_layers_and_models_via_subclassing#putting_it_all_together_an_end-to-end_example \n",
    "https://www.tensorflow.org/guide/keras/functional_api\n",
    "https://www.tensorflow.org/api_docs/python/tf/keras/Layer#used-in-the-notebooks\n",
    "https://www.tensorflow.org/api_docs/python/tf/keras/Layer#call"
   ]
  },
  {
   "cell_type": "markdown",
   "id": "64642c61",
   "metadata": {},
   "source": [
    "## Autoencoder"
   ]
  },
  {
   "cell_type": "markdown",
   "id": "d00bbead",
   "metadata": {},
   "source": [
    "### Dataset"
   ]
  },
  {
   "cell_type": "code",
   "execution_count": 3,
   "id": "3ae6f68b",
   "metadata": {},
   "outputs": [],
   "source": [
    "# code from: https://www.tensorflow.org/tutorials/generative/autoencoder"
   ]
  },
  {
   "cell_type": "code",
   "execution_count": 3,
   "id": "1653b30e",
   "metadata": {},
   "outputs": [
    {
     "name": "stdout",
     "output_type": "stream",
     "text": [
      "(60000, 28, 28)\n",
      "(10000, 28, 28)\n",
      "(60000, 10, 10)\n",
      "(10000, 10, 10)\n",
      "(60000, 10, 10)\n",
      "<class 'tensorflow.python.framework.ops.EagerTensor'>\n"
     ]
    }
   ],
   "source": [
    "(x_train, _), (x_test, _) = mnist.load_data()\n",
    "\n",
    "x_train = x_train.astype('float32') / 255. #normalize the data\n",
    "x_test = x_test.astype('float32') / 255.\n",
    "\n",
    "print(x_train.shape)\n",
    "print(x_test.shape)\n",
    "\n",
    "# make a smaller training set\n",
    "x_train_temp = x_train[..., tf.newaxis]\n",
    "x_train_temp = tf.image.resize(x_train_temp, [10,10])\n",
    "x_train_small = x_train_temp[:,:,:,0]\n",
    "\n",
    "x_test_temp = x_test[..., tf.newaxis]\n",
    "x_test_temp = tf.image.resize(x_test_temp, [10,10])\n",
    "x_test_small = x_test_temp[:,:,:,0]\n",
    "\n",
    "#x_train_small = tf.image.resize(x_train, [10, 10])\n",
    "#x_test_small = tf.image.resize(x_test, [10, 10])\n",
    "\n",
    "print(x_train_small.shape)\n",
    "print(x_test_small.shape)\n",
    "\n",
    "# make a complex (smaller) training set\n",
    "x_train_cx_small = tf.complex(np.ones((x_train_small.shape)).astype('float32'), x_train_small)\n",
    "x_test_cx_small = tf.complex(np.ones((x_test_small.shape)).astype('float32'), x_test_small)\n",
    "\n",
    "print(x_train_cx_small.shape)\n",
    "print(type(x_train_cx_small))"
   ]
  },
  {
   "cell_type": "code",
   "execution_count": 4,
   "id": "f2f5faaa",
   "metadata": {},
   "outputs": [
    {
     "data": {
      "image/png": "[encoded data removed]",
      "text/plain": [
       "<Figure size 640x480 with 5 Axes>"
      ]
     },
     "metadata": {},
     "output_type": "display_data"
    }
   ],
   "source": [
    "# representation training dataset (real case)\n",
    "ns = 5\n",
    "fig, ax = plt.subplots(1,ns)\n",
    "\n",
    "for i in range(ns):\n",
    "    x = x_train_small[i]\n",
    "    ax[i].imshow(np.real(x).reshape((10,10)),clim=[0,1])\n",
    "    ax[i].set_xticks([])\n",
    "    ax[i].set_yticks([])\n",
    "fig.tight_layout()"
   ]
  },
  {
   "cell_type": "code",
   "execution_count": 5,
   "id": "acad1eab",
   "metadata": {},
   "outputs": [
    {
     "data": {
      "image/png": "[encoded data removed]",
      "text/plain": [
       "<Figure size 640x480 with 10 Axes>"
      ]
     },
     "metadata": {},
     "output_type": "display_data"
    }
   ],
   "source": [
    "ns = 5\n",
    "fig, ax = plt.subplots(2,ns)\n",
    "\n",
    "for i in range(ns):\n",
    "    x = x_train_cx_small[i]\n",
    "    ax[0,i].imshow(np.real(x).reshape((10,10)),clim=[0,1], cmap= 'viridis')\n",
    "    ax[0,i].set_xticks([])\n",
    "    ax[0,i].set_yticks([])\n",
    "    ax[1,i].imshow(np.imag(x).reshape((10,10)),clim=[0,1], cmap='viridis')\n",
    "    ax[1,i].set_xticks([])\n",
    "    ax[1,i].set_yticks([])\n",
    "fig.tight_layout()\n"
   ]
  },
  {
   "cell_type": "markdown",
   "id": "6987db3b",
   "metadata": {},
   "source": [
    "### Layer and model classes\n",
    "todo transport to separate files"
   ]
  },
  {
   "cell_type": "code",
   "execution_count": 33,
   "id": "c0572838",
   "metadata": {},
   "outputs": [
    {
     "name": "stdout",
     "output_type": "stream",
     "text": [
      "(1, 100)\n",
      "<class 'tensorflow.python.framework.ops.EagerTensor'>\n",
      "3\n",
      "tf.Tensor([-10.-2.j  -5.-1.j   0.+0.j   5.+1.j  10.+2.j], shape=(5,), dtype=complex64)\n",
      "tf.Tensor(\n",
      "[-9.01942 -1.8038839j  -4.019419-0.80388385j       nan       +nanj\n",
      "  4.019419+0.80388385j  9.01942 +1.8038839j ], shape=(5,), dtype=complex64)\n",
      "[10.198039   5.0990195  0.         5.0990195 10.198039 ]\n",
      "[9.198039  4.0990195       nan 4.0990195 9.198039 ]\n",
      "tf.Tensor(260.0, shape=(), dtype=float32)\n",
      "(<tf.Tensor: shape=(5,), dtype=complex64, numpy=array([-10.+2.j,  -5.+1.j,   0.-0.j,   5.-1.j,  10.-2.j], dtype=complex64)>, <tf.Tensor: shape=(5,), dtype=complex64, numpy=array([-10.-2.j,  -5.-1.j,   0.+0.j,   5.+1.j,  10.+2.j], dtype=complex64)>)\n"
     ]
    }
   ],
   "source": [
    "test_layer = autosetup.ComplexEncoder(10)\n",
    "test_layer2 = autosetup.ComplexDencoder(100)\n",
    "\n",
    "# create x_example\n",
    "x_testing = tf.reshape(x_train_cx_small[0], [1,-1])\n",
    "print(x_testing.shape)\n",
    "print(type(x_testing))\n",
    "\n",
    "# output of the autoencoder model encoder (untrained)\n",
    "y = test_layer(x_testing)\n",
    "#print(y)\n",
    "print(len(test_layer.weights)) # i think it's 3 because i have 3 objects..?\n",
    "\n",
    "# testing autoencoder decoder (untrained)\n",
    "z_testing = tf.complex(2.0*np.ones(10, dtype=np.float32), 1.2*np.ones(10, dtype=np.float32))\n",
    "x_recon = test_layer2(y)\n",
    "\n",
    "#print(x_recon)\n",
    "\n",
    "# test activation fuction\n",
    "seq = np.array([-10,-5,0,5,10])\n",
    "c_seq = np.array([-2,-1,0,1,2])\n",
    "real_tensor = tf.convert_to_tensor(seq.astype('float32'))\n",
    "imag_tensor = tf.convert_to_tensor(c_seq.astype('float32'))\n",
    "c_tensor = tf.complex(real_tensor, imag_tensor)\n",
    "\n",
    "print(c_tensor)\n",
    "modrelu = lambda z: autosetup.modrelu(z, b=-1, c=0)\n",
    "#print(modrelu(real_tensor))\n",
    "print(modrelu(c_tensor))\n",
    "print(np.abs(c_tensor))\n",
    "print(np.abs(modrelu(c_tensor)))\n",
    "\n",
    "# test loss function \n",
    "aL = 2*c_tensor \n",
    "loss = autosetup.loss_MSE(aL, c_tensor)\n",
    "print(loss)\n",
    "\n",
    "print(autosetup.dLossdaL(aL, c_tensor))\n"
   ]
  },
  {
   "cell_type": "code",
   "execution_count": 62,
   "id": "1af58fa0",
   "metadata": {},
   "outputs": [
    {
     "name": "stdout",
     "output_type": "stream",
     "text": [
      "tf.Tensor([[1.+2.j]], shape=(1, 1), dtype=complex64)\n",
      "<class 'tensorflow.python.framework.ops.EagerTensor'>\n",
      "tf.Tensor((1.3389726+0.4023595j), shape=(), dtype=complex64)\n",
      "<class 'tensorflow.python.framework.ops.EagerTensor'>\n"
     ]
    }
   ],
   "source": [
    "def arctan_complex(z, dtype=tf.complex64):\n",
    "    return tf.convert_to_tensor(cmath.atan(z), dtype=tf.complex64)\n",
    "\n",
    "x = tf.complex(1.0,2.0)\n",
    "x = tf.reshape(x, [1,-1])\n",
    "print(x)\n",
    "print(type(x))\n",
    "y = arctan_complex(x)\n",
    "print(y)\n",
    "print(type(y))\n",
    "\n"
   ]
  },
  {
   "cell_type": "code",
   "execution_count": 6,
   "id": "ae9ed44e",
   "metadata": {},
   "outputs": [
    {
     "name": "stdout",
     "output_type": "stream",
     "text": [
      "2\n",
      "(10, 10)\n"
     ]
    }
   ],
   "source": [
    "@register_keras_serializable()\n",
    "class Autoencoder(Model):\n",
    "  def __init__(self, latent_dim, shape, **kwargs):\n",
    "    super().__init__(**kwargs)\n",
    "    self.latent_dim = latent_dim\n",
    "    self.shape = shape\n",
    "    self.encoder = tf.keras.Sequential([\n",
    "      layers.Flatten(),\n",
    "      layers.Dense(latent_dim, activation='relu'),\n",
    "    ])\n",
    "    self.decoder = tf.keras.Sequential([\n",
    "      layers.Dense(tf.math.reduce_prod(shape).numpy(), activation='sigmoid'),\n",
    "      layers.Reshape(shape)\n",
    "    ])\n",
    "  \n",
    "\n",
    "  def call(self, x):\n",
    "    encoded = self.encoder(x)\n",
    "    decoded = self.decoder(encoded)\n",
    "    return decoded\n",
    "  \n",
    "\n",
    "  def get_config(self):\n",
    "    config = super().get_config()\n",
    "    config.update(\n",
    "      {\n",
    "        \"latent_dim\": self.latent_dim,\n",
    "        \"shape\": self.shape,\n",
    "       # \"encoder\": self.encoder,\n",
    "       # \"decoder\": self.decoder,\n",
    "      }\n",
    "    )\n",
    "    return config\n",
    "\n",
    "  # can be removed I think\n",
    "  # @classmethod\n",
    "  # def from_config(cls, config):\n",
    "  #     config[\"latent_dim\"] = deserialize_keras_object(config[\"latent_dim\"])\n",
    "  #     config[\"shape\"] = deserialize_keras_object(config[\"shape\"])\n",
    "  #     #config[\"encoder\"] = deserialize_keras_object(config[\"encoder\"])\n",
    "  #     #config[\"decoder\"] = deserialize_keras_object(config[\"decoder\"])\n",
    "  #     return cls(**config)\n",
    "\n",
    "\n",
    "shape = x_test_small.shape[1:]\n",
    "latent_dim = 10\n",
    "autoencoder = Autoencoder(latent_dim, shape)\n",
    "print(len(autoencoder.layers))\n",
    "print(shape)"
   ]
  },
  {
   "cell_type": "code",
   "execution_count": 40,
   "id": "1fbf80d7",
   "metadata": {},
   "outputs": [
    {
     "name": "stdout",
     "output_type": "stream",
     "text": [
      "Epoch 1/10\n",
      "WARNING:tensorflow:You are casting an input of type complex64 to an incompatible dtype float32.  This will discard the imaginary part and may not be what you intended.\n"
     ]
    },
    {
     "name": "stderr",
     "output_type": "stream",
     "text": [
      "WARNING: You are casting an input of type complex64 to an incompatible dtype float32.  This will discard the imaginary part and may not be what you intended.\n"
     ]
    },
    {
     "name": "stdout",
     "output_type": "stream",
     "text": [
      "WARNING:tensorflow:You are casting an input of type complex64 to an incompatible dtype float32.  This will discard the imaginary part and may not be what you intended.\n"
     ]
    },
    {
     "name": "stderr",
     "output_type": "stream",
     "text": [
      "WARNING: You are casting an input of type complex64 to an incompatible dtype float32.  This will discard the imaginary part and may not be what you intended.\n"
     ]
    },
    {
     "name": "stdout",
     "output_type": "stream",
     "text": [
      "WARNING:tensorflow:You are casting an input of type complex64 to an incompatible dtype float32.  This will discard the imaginary part and may not be what you intended.\n"
     ]
    },
    {
     "name": "stderr",
     "output_type": "stream",
     "text": [
      "WARNING: You are casting an input of type complex64 to an incompatible dtype float32.  This will discard the imaginary part and may not be what you intended.\n"
     ]
    },
    {
     "name": "stdout",
     "output_type": "stream",
     "text": [
      "WARNING:tensorflow:You are casting an input of type complex64 to an incompatible dtype float32.  This will discard the imaginary part and may not be what you intended.\n"
     ]
    },
    {
     "name": "stderr",
     "output_type": "stream",
     "text": [
      "WARNING: You are casting an input of type complex64 to an incompatible dtype float32.  This will discard the imaginary part and may not be what you intended.\n"
     ]
    },
    {
     "name": "stdout",
     "output_type": "stream",
     "text": [
      "\u001b[1m1658/1875\u001b[0m \u001b[32m━━━━━━━━━━━━━━━━━\u001b[0m\u001b[37m━━━\u001b[0m \u001b[1m0s\u001b[0m 3ms/step - loss: 0.4029"
     ]
    },
    {
     "ename": "KeyboardInterrupt",
     "evalue": "",
     "output_type": "error",
     "traceback": [
      "\u001b[1;31m---------------------------------------------------------------------------\u001b[0m",
      "\u001b[1;31mKeyboardInterrupt\u001b[0m                         Traceback (most recent call last)",
      "Cell \u001b[1;32mIn[40], line 2\u001b[0m\n\u001b[0;32m      1\u001b[0m autoencoder\u001b[38;5;241m.\u001b[39mcompile(optimizer\u001b[38;5;241m=\u001b[39m\u001b[38;5;124m'\u001b[39m\u001b[38;5;124madam\u001b[39m\u001b[38;5;124m'\u001b[39m, loss\u001b[38;5;241m=\u001b[39mlosses\u001b[38;5;241m.\u001b[39mMeanSquaredError()) \u001b[38;5;66;03m# configuration of the model for training, adam is a stochastic gradient method that estimates moments\u001b[39;00m\n\u001b[1;32m----> 2\u001b[0m \u001b[43mautoencoder\u001b[49m\u001b[38;5;241;43m.\u001b[39;49m\u001b[43mfit\u001b[49m\u001b[43m(\u001b[49m\u001b[43mx_train_cx_small\u001b[49m\u001b[43m,\u001b[49m\u001b[43m \u001b[49m\u001b[43mx_train_cx_small\u001b[49m\u001b[43m,\u001b[49m\n\u001b[0;32m      3\u001b[0m \u001b[43m                \u001b[49m\u001b[43mepochs\u001b[49m\u001b[38;5;241;43m=\u001b[39;49m\u001b[38;5;241;43m10\u001b[39;49m\u001b[43m,\u001b[49m\u001b[43m \u001b[49m\u001b[38;5;66;43;03m# number of times the entire training dataset is run through the model\u001b[39;49;00m\n\u001b[0;32m      4\u001b[0m \u001b[43m                \u001b[49m\u001b[43mshuffle\u001b[49m\u001b[38;5;241;43m=\u001b[39;49m\u001b[38;5;28;43;01mTrue\u001b[39;49;00m\u001b[43m,\u001b[49m\u001b[43m \u001b[49m\u001b[38;5;66;43;03m# shuffles the data set before each training epoch\u001b[39;49;00m\n\u001b[0;32m      5\u001b[0m \u001b[43m                \u001b[49m\u001b[43mvalidation_data\u001b[49m\u001b[38;5;241;43m=\u001b[39;49m\u001b[43m(\u001b[49m\u001b[43mx_test_cx_small\u001b[49m\u001b[43m,\u001b[49m\u001b[43m \u001b[49m\u001b[43mx_test_cx_small\u001b[49m\u001b[43m)\u001b[49m\u001b[43m)\u001b[49m \u001b[38;5;66;03m# validation at the end of each epoch\u001b[39;00m\n\u001b[0;32m      6\u001b[0m                 \u001b[38;5;66;03m# batch size is 32 by default\u001b[39;00m\n\u001b[0;32m      8\u001b[0m autoencoder\u001b[38;5;241m.\u001b[39msummary()\n",
      "File \u001b[1;32mc:\\Users\\Abel\\miniconda3\\envs\\wtf\\lib\\site-packages\\keras\\src\\utils\\traceback_utils.py:117\u001b[0m, in \u001b[0;36mfilter_traceback.<locals>.error_handler\u001b[1;34m(*args, **kwargs)\u001b[0m\n\u001b[0;32m    115\u001b[0m filtered_tb \u001b[38;5;241m=\u001b[39m \u001b[38;5;28;01mNone\u001b[39;00m\n\u001b[0;32m    116\u001b[0m \u001b[38;5;28;01mtry\u001b[39;00m:\n\u001b[1;32m--> 117\u001b[0m     \u001b[38;5;28;01mreturn\u001b[39;00m fn(\u001b[38;5;241m*\u001b[39margs, \u001b[38;5;241m*\u001b[39m\u001b[38;5;241m*\u001b[39mkwargs)\n\u001b[0;32m    118\u001b[0m \u001b[38;5;28;01mexcept\u001b[39;00m \u001b[38;5;167;01mException\u001b[39;00m \u001b[38;5;28;01mas\u001b[39;00m e:\n\u001b[0;32m    119\u001b[0m     filtered_tb \u001b[38;5;241m=\u001b[39m _process_traceback_frames(e\u001b[38;5;241m.\u001b[39m__traceback__)\n",
      "File \u001b[1;32mc:\\Users\\Abel\\miniconda3\\envs\\wtf\\lib\\site-packages\\keras\\src\\backend\\tensorflow\\trainer.py:371\u001b[0m, in \u001b[0;36mTensorFlowTrainer.fit\u001b[1;34m(self, x, y, batch_size, epochs, verbose, callbacks, validation_split, validation_data, shuffle, class_weight, sample_weight, initial_epoch, steps_per_epoch, validation_steps, validation_batch_size, validation_freq)\u001b[0m\n\u001b[0;32m    369\u001b[0m \u001b[38;5;28;01mfor\u001b[39;00m step, iterator \u001b[38;5;129;01min\u001b[39;00m epoch_iterator:\n\u001b[0;32m    370\u001b[0m     callbacks\u001b[38;5;241m.\u001b[39mon_train_batch_begin(step)\n\u001b[1;32m--> 371\u001b[0m     logs \u001b[38;5;241m=\u001b[39m \u001b[38;5;28;43mself\u001b[39;49m\u001b[38;5;241;43m.\u001b[39;49m\u001b[43mtrain_function\u001b[49m\u001b[43m(\u001b[49m\u001b[43miterator\u001b[49m\u001b[43m)\u001b[49m\n\u001b[0;32m    372\u001b[0m     callbacks\u001b[38;5;241m.\u001b[39mon_train_batch_end(step, logs)\n\u001b[0;32m    373\u001b[0m     \u001b[38;5;28;01mif\u001b[39;00m \u001b[38;5;28mself\u001b[39m\u001b[38;5;241m.\u001b[39mstop_training:\n",
      "File \u001b[1;32mc:\\Users\\Abel\\miniconda3\\envs\\wtf\\lib\\site-packages\\keras\\src\\backend\\tensorflow\\trainer.py:219\u001b[0m, in \u001b[0;36mTensorFlowTrainer._make_function.<locals>.function\u001b[1;34m(iterator)\u001b[0m\n\u001b[0;32m    215\u001b[0m \u001b[38;5;28;01mdef\u001b[39;00m\u001b[38;5;250m \u001b[39m\u001b[38;5;21mfunction\u001b[39m(iterator):\n\u001b[0;32m    216\u001b[0m     \u001b[38;5;28;01mif\u001b[39;00m \u001b[38;5;28misinstance\u001b[39m(\n\u001b[0;32m    217\u001b[0m         iterator, (tf\u001b[38;5;241m.\u001b[39mdata\u001b[38;5;241m.\u001b[39mIterator, tf\u001b[38;5;241m.\u001b[39mdistribute\u001b[38;5;241m.\u001b[39mDistributedIterator)\n\u001b[0;32m    218\u001b[0m     ):\n\u001b[1;32m--> 219\u001b[0m         opt_outputs \u001b[38;5;241m=\u001b[39m \u001b[43mmulti_step_on_iterator\u001b[49m\u001b[43m(\u001b[49m\u001b[43miterator\u001b[49m\u001b[43m)\u001b[49m\n\u001b[0;32m    220\u001b[0m         \u001b[38;5;28;01mif\u001b[39;00m \u001b[38;5;129;01mnot\u001b[39;00m opt_outputs\u001b[38;5;241m.\u001b[39mhas_value():\n\u001b[0;32m    221\u001b[0m             \u001b[38;5;28;01mraise\u001b[39;00m \u001b[38;5;167;01mStopIteration\u001b[39;00m\n",
      "File \u001b[1;32mc:\\Users\\Abel\\miniconda3\\envs\\wtf\\lib\\site-packages\\tensorflow\\python\\util\\traceback_utils.py:150\u001b[0m, in \u001b[0;36mfilter_traceback.<locals>.error_handler\u001b[1;34m(*args, **kwargs)\u001b[0m\n\u001b[0;32m    148\u001b[0m filtered_tb \u001b[38;5;241m=\u001b[39m \u001b[38;5;28;01mNone\u001b[39;00m\n\u001b[0;32m    149\u001b[0m \u001b[38;5;28;01mtry\u001b[39;00m:\n\u001b[1;32m--> 150\u001b[0m   \u001b[38;5;28;01mreturn\u001b[39;00m fn(\u001b[38;5;241m*\u001b[39margs, \u001b[38;5;241m*\u001b[39m\u001b[38;5;241m*\u001b[39mkwargs)\n\u001b[0;32m    151\u001b[0m \u001b[38;5;28;01mexcept\u001b[39;00m \u001b[38;5;167;01mException\u001b[39;00m \u001b[38;5;28;01mas\u001b[39;00m e:\n\u001b[0;32m    152\u001b[0m   filtered_tb \u001b[38;5;241m=\u001b[39m _process_traceback_frames(e\u001b[38;5;241m.\u001b[39m__traceback__)\n",
      "File \u001b[1;32mc:\\Users\\Abel\\miniconda3\\envs\\wtf\\lib\\site-packages\\tensorflow\\python\\eager\\polymorphic_function\\polymorphic_function.py:833\u001b[0m, in \u001b[0;36mFunction.__call__\u001b[1;34m(self, *args, **kwds)\u001b[0m\n\u001b[0;32m    830\u001b[0m compiler \u001b[38;5;241m=\u001b[39m \u001b[38;5;124m\"\u001b[39m\u001b[38;5;124mxla\u001b[39m\u001b[38;5;124m\"\u001b[39m \u001b[38;5;28;01mif\u001b[39;00m \u001b[38;5;28mself\u001b[39m\u001b[38;5;241m.\u001b[39m_jit_compile \u001b[38;5;28;01melse\u001b[39;00m \u001b[38;5;124m\"\u001b[39m\u001b[38;5;124mnonXla\u001b[39m\u001b[38;5;124m\"\u001b[39m\n\u001b[0;32m    832\u001b[0m \u001b[38;5;28;01mwith\u001b[39;00m OptionalXlaContext(\u001b[38;5;28mself\u001b[39m\u001b[38;5;241m.\u001b[39m_jit_compile):\n\u001b[1;32m--> 833\u001b[0m   result \u001b[38;5;241m=\u001b[39m \u001b[38;5;28mself\u001b[39m\u001b[38;5;241m.\u001b[39m_call(\u001b[38;5;241m*\u001b[39margs, \u001b[38;5;241m*\u001b[39m\u001b[38;5;241m*\u001b[39mkwds)\n\u001b[0;32m    835\u001b[0m new_tracing_count \u001b[38;5;241m=\u001b[39m \u001b[38;5;28mself\u001b[39m\u001b[38;5;241m.\u001b[39mexperimental_get_tracing_count()\n\u001b[0;32m    836\u001b[0m without_tracing \u001b[38;5;241m=\u001b[39m (tracing_count \u001b[38;5;241m==\u001b[39m new_tracing_count)\n",
      "File \u001b[1;32mc:\\Users\\Abel\\miniconda3\\envs\\wtf\\lib\\site-packages\\tensorflow\\python\\eager\\polymorphic_function\\polymorphic_function.py:878\u001b[0m, in \u001b[0;36mFunction._call\u001b[1;34m(self, *args, **kwds)\u001b[0m\n\u001b[0;32m    875\u001b[0m \u001b[38;5;28mself\u001b[39m\u001b[38;5;241m.\u001b[39m_lock\u001b[38;5;241m.\u001b[39mrelease()\n\u001b[0;32m    876\u001b[0m \u001b[38;5;66;03m# In this case we have not created variables on the first call. So we can\u001b[39;00m\n\u001b[0;32m    877\u001b[0m \u001b[38;5;66;03m# run the first trace but we should fail if variables are created.\u001b[39;00m\n\u001b[1;32m--> 878\u001b[0m results \u001b[38;5;241m=\u001b[39m \u001b[43mtracing_compilation\u001b[49m\u001b[38;5;241;43m.\u001b[39;49m\u001b[43mcall_function\u001b[49m\u001b[43m(\u001b[49m\n\u001b[0;32m    879\u001b[0m \u001b[43m    \u001b[49m\u001b[43margs\u001b[49m\u001b[43m,\u001b[49m\u001b[43m \u001b[49m\u001b[43mkwds\u001b[49m\u001b[43m,\u001b[49m\u001b[43m \u001b[49m\u001b[38;5;28;43mself\u001b[39;49m\u001b[38;5;241;43m.\u001b[39;49m\u001b[43m_variable_creation_config\u001b[49m\n\u001b[0;32m    880\u001b[0m \u001b[43m\u001b[49m\u001b[43m)\u001b[49m\n\u001b[0;32m    881\u001b[0m \u001b[38;5;28;01mif\u001b[39;00m \u001b[38;5;28mself\u001b[39m\u001b[38;5;241m.\u001b[39m_created_variables:\n\u001b[0;32m    882\u001b[0m   \u001b[38;5;28;01mraise\u001b[39;00m \u001b[38;5;167;01mValueError\u001b[39;00m(\u001b[38;5;124m\"\u001b[39m\u001b[38;5;124mCreating variables on a non-first call to a function\u001b[39m\u001b[38;5;124m\"\u001b[39m\n\u001b[0;32m    883\u001b[0m                    \u001b[38;5;124m\"\u001b[39m\u001b[38;5;124m decorated with tf.function.\u001b[39m\u001b[38;5;124m\"\u001b[39m)\n",
      "File \u001b[1;32mc:\\Users\\Abel\\miniconda3\\envs\\wtf\\lib\\site-packages\\tensorflow\\python\\eager\\polymorphic_function\\tracing_compilation.py:139\u001b[0m, in \u001b[0;36mcall_function\u001b[1;34m(args, kwargs, tracing_options)\u001b[0m\n\u001b[0;32m    137\u001b[0m bound_args \u001b[38;5;241m=\u001b[39m function\u001b[38;5;241m.\u001b[39mfunction_type\u001b[38;5;241m.\u001b[39mbind(\u001b[38;5;241m*\u001b[39margs, \u001b[38;5;241m*\u001b[39m\u001b[38;5;241m*\u001b[39mkwargs)\n\u001b[0;32m    138\u001b[0m flat_inputs \u001b[38;5;241m=\u001b[39m function\u001b[38;5;241m.\u001b[39mfunction_type\u001b[38;5;241m.\u001b[39munpack_inputs(bound_args)\n\u001b[1;32m--> 139\u001b[0m \u001b[38;5;28;01mreturn\u001b[39;00m \u001b[43mfunction\u001b[49m\u001b[38;5;241;43m.\u001b[39;49m\u001b[43m_call_flat\u001b[49m\u001b[43m(\u001b[49m\u001b[43m  \u001b[49m\u001b[38;5;66;43;03m# pylint: disable=protected-access\u001b[39;49;00m\n\u001b[0;32m    140\u001b[0m \u001b[43m    \u001b[49m\u001b[43mflat_inputs\u001b[49m\u001b[43m,\u001b[49m\u001b[43m \u001b[49m\u001b[43mcaptured_inputs\u001b[49m\u001b[38;5;241;43m=\u001b[39;49m\u001b[43mfunction\u001b[49m\u001b[38;5;241;43m.\u001b[39;49m\u001b[43mcaptured_inputs\u001b[49m\n\u001b[0;32m    141\u001b[0m \u001b[43m\u001b[49m\u001b[43m)\u001b[49m\n",
      "File \u001b[1;32mc:\\Users\\Abel\\miniconda3\\envs\\wtf\\lib\\site-packages\\tensorflow\\python\\eager\\polymorphic_function\\concrete_function.py:1322\u001b[0m, in \u001b[0;36mConcreteFunction._call_flat\u001b[1;34m(self, tensor_inputs, captured_inputs)\u001b[0m\n\u001b[0;32m   1318\u001b[0m possible_gradient_type \u001b[38;5;241m=\u001b[39m gradients_util\u001b[38;5;241m.\u001b[39mPossibleTapeGradientTypes(args)\n\u001b[0;32m   1319\u001b[0m \u001b[38;5;28;01mif\u001b[39;00m (possible_gradient_type \u001b[38;5;241m==\u001b[39m gradients_util\u001b[38;5;241m.\u001b[39mPOSSIBLE_GRADIENT_TYPES_NONE\n\u001b[0;32m   1320\u001b[0m     \u001b[38;5;129;01mand\u001b[39;00m executing_eagerly):\n\u001b[0;32m   1321\u001b[0m   \u001b[38;5;66;03m# No tape is watching; skip to running the function.\u001b[39;00m\n\u001b[1;32m-> 1322\u001b[0m   \u001b[38;5;28;01mreturn\u001b[39;00m \u001b[38;5;28;43mself\u001b[39;49m\u001b[38;5;241;43m.\u001b[39;49m\u001b[43m_inference_function\u001b[49m\u001b[38;5;241;43m.\u001b[39;49m\u001b[43mcall_preflattened\u001b[49m\u001b[43m(\u001b[49m\u001b[43margs\u001b[49m\u001b[43m)\u001b[49m\n\u001b[0;32m   1323\u001b[0m forward_backward \u001b[38;5;241m=\u001b[39m \u001b[38;5;28mself\u001b[39m\u001b[38;5;241m.\u001b[39m_select_forward_and_backward_functions(\n\u001b[0;32m   1324\u001b[0m     args,\n\u001b[0;32m   1325\u001b[0m     possible_gradient_type,\n\u001b[0;32m   1326\u001b[0m     executing_eagerly)\n\u001b[0;32m   1327\u001b[0m forward_function, args_with_tangents \u001b[38;5;241m=\u001b[39m forward_backward\u001b[38;5;241m.\u001b[39mforward()\n",
      "File \u001b[1;32mc:\\Users\\Abel\\miniconda3\\envs\\wtf\\lib\\site-packages\\tensorflow\\python\\eager\\polymorphic_function\\atomic_function.py:216\u001b[0m, in \u001b[0;36mAtomicFunction.call_preflattened\u001b[1;34m(self, args)\u001b[0m\n\u001b[0;32m    214\u001b[0m \u001b[38;5;28;01mdef\u001b[39;00m\u001b[38;5;250m \u001b[39m\u001b[38;5;21mcall_preflattened\u001b[39m(\u001b[38;5;28mself\u001b[39m, args: Sequence[core\u001b[38;5;241m.\u001b[39mTensor]) \u001b[38;5;241m-\u001b[39m\u001b[38;5;241m>\u001b[39m Any:\n\u001b[0;32m    215\u001b[0m \u001b[38;5;250m  \u001b[39m\u001b[38;5;124;03m\"\"\"Calls with flattened tensor inputs and returns the structured output.\"\"\"\u001b[39;00m\n\u001b[1;32m--> 216\u001b[0m   flat_outputs \u001b[38;5;241m=\u001b[39m \u001b[38;5;28;43mself\u001b[39;49m\u001b[38;5;241;43m.\u001b[39;49m\u001b[43mcall_flat\u001b[49m\u001b[43m(\u001b[49m\u001b[38;5;241;43m*\u001b[39;49m\u001b[43margs\u001b[49m\u001b[43m)\u001b[49m\n\u001b[0;32m    217\u001b[0m   \u001b[38;5;28;01mreturn\u001b[39;00m \u001b[38;5;28mself\u001b[39m\u001b[38;5;241m.\u001b[39mfunction_type\u001b[38;5;241m.\u001b[39mpack_output(flat_outputs)\n",
      "File \u001b[1;32mc:\\Users\\Abel\\miniconda3\\envs\\wtf\\lib\\site-packages\\tensorflow\\python\\eager\\polymorphic_function\\atomic_function.py:251\u001b[0m, in \u001b[0;36mAtomicFunction.call_flat\u001b[1;34m(self, *args)\u001b[0m\n\u001b[0;32m    249\u001b[0m \u001b[38;5;28;01mwith\u001b[39;00m record\u001b[38;5;241m.\u001b[39mstop_recording():\n\u001b[0;32m    250\u001b[0m   \u001b[38;5;28;01mif\u001b[39;00m \u001b[38;5;28mself\u001b[39m\u001b[38;5;241m.\u001b[39m_bound_context\u001b[38;5;241m.\u001b[39mexecuting_eagerly():\n\u001b[1;32m--> 251\u001b[0m     outputs \u001b[38;5;241m=\u001b[39m \u001b[38;5;28;43mself\u001b[39;49m\u001b[38;5;241;43m.\u001b[39;49m\u001b[43m_bound_context\u001b[49m\u001b[38;5;241;43m.\u001b[39;49m\u001b[43mcall_function\u001b[49m\u001b[43m(\u001b[49m\n\u001b[0;32m    252\u001b[0m \u001b[43m        \u001b[49m\u001b[38;5;28;43mself\u001b[39;49m\u001b[38;5;241;43m.\u001b[39;49m\u001b[43mname\u001b[49m\u001b[43m,\u001b[49m\n\u001b[0;32m    253\u001b[0m \u001b[43m        \u001b[49m\u001b[38;5;28;43mlist\u001b[39;49m\u001b[43m(\u001b[49m\u001b[43margs\u001b[49m\u001b[43m)\u001b[49m\u001b[43m,\u001b[49m\n\u001b[0;32m    254\u001b[0m \u001b[43m        \u001b[49m\u001b[38;5;28;43mlen\u001b[39;49m\u001b[43m(\u001b[49m\u001b[38;5;28;43mself\u001b[39;49m\u001b[38;5;241;43m.\u001b[39;49m\u001b[43mfunction_type\u001b[49m\u001b[38;5;241;43m.\u001b[39;49m\u001b[43mflat_outputs\u001b[49m\u001b[43m)\u001b[49m\u001b[43m,\u001b[49m\n\u001b[0;32m    255\u001b[0m \u001b[43m    \u001b[49m\u001b[43m)\u001b[49m\n\u001b[0;32m    256\u001b[0m   \u001b[38;5;28;01melse\u001b[39;00m:\n\u001b[0;32m    257\u001b[0m     outputs \u001b[38;5;241m=\u001b[39m make_call_op_in_graph(\n\u001b[0;32m    258\u001b[0m         \u001b[38;5;28mself\u001b[39m,\n\u001b[0;32m    259\u001b[0m         \u001b[38;5;28mlist\u001b[39m(args),\n\u001b[0;32m    260\u001b[0m         \u001b[38;5;28mself\u001b[39m\u001b[38;5;241m.\u001b[39m_bound_context\u001b[38;5;241m.\u001b[39mfunction_call_options\u001b[38;5;241m.\u001b[39mas_attrs(),\n\u001b[0;32m    261\u001b[0m     )\n",
      "File \u001b[1;32mc:\\Users\\Abel\\miniconda3\\envs\\wtf\\lib\\site-packages\\tensorflow\\python\\eager\\context.py:1688\u001b[0m, in \u001b[0;36mContext.call_function\u001b[1;34m(self, name, tensor_inputs, num_outputs)\u001b[0m\n\u001b[0;32m   1686\u001b[0m cancellation_context \u001b[38;5;241m=\u001b[39m cancellation\u001b[38;5;241m.\u001b[39mcontext()\n\u001b[0;32m   1687\u001b[0m \u001b[38;5;28;01mif\u001b[39;00m cancellation_context \u001b[38;5;129;01mis\u001b[39;00m \u001b[38;5;28;01mNone\u001b[39;00m:\n\u001b[1;32m-> 1688\u001b[0m   outputs \u001b[38;5;241m=\u001b[39m \u001b[43mexecute\u001b[49m\u001b[38;5;241;43m.\u001b[39;49m\u001b[43mexecute\u001b[49m\u001b[43m(\u001b[49m\n\u001b[0;32m   1689\u001b[0m \u001b[43m      \u001b[49m\u001b[43mname\u001b[49m\u001b[38;5;241;43m.\u001b[39;49m\u001b[43mdecode\u001b[49m\u001b[43m(\u001b[49m\u001b[38;5;124;43m\"\u001b[39;49m\u001b[38;5;124;43mutf-8\u001b[39;49m\u001b[38;5;124;43m\"\u001b[39;49m\u001b[43m)\u001b[49m\u001b[43m,\u001b[49m\n\u001b[0;32m   1690\u001b[0m \u001b[43m      \u001b[49m\u001b[43mnum_outputs\u001b[49m\u001b[38;5;241;43m=\u001b[39;49m\u001b[43mnum_outputs\u001b[49m\u001b[43m,\u001b[49m\n\u001b[0;32m   1691\u001b[0m \u001b[43m      \u001b[49m\u001b[43minputs\u001b[49m\u001b[38;5;241;43m=\u001b[39;49m\u001b[43mtensor_inputs\u001b[49m\u001b[43m,\u001b[49m\n\u001b[0;32m   1692\u001b[0m \u001b[43m      \u001b[49m\u001b[43mattrs\u001b[49m\u001b[38;5;241;43m=\u001b[39;49m\u001b[43mattrs\u001b[49m\u001b[43m,\u001b[49m\n\u001b[0;32m   1693\u001b[0m \u001b[43m      \u001b[49m\u001b[43mctx\u001b[49m\u001b[38;5;241;43m=\u001b[39;49m\u001b[38;5;28;43mself\u001b[39;49m\u001b[43m,\u001b[49m\n\u001b[0;32m   1694\u001b[0m \u001b[43m  \u001b[49m\u001b[43m)\u001b[49m\n\u001b[0;32m   1695\u001b[0m \u001b[38;5;28;01melse\u001b[39;00m:\n\u001b[0;32m   1696\u001b[0m   outputs \u001b[38;5;241m=\u001b[39m execute\u001b[38;5;241m.\u001b[39mexecute_with_cancellation(\n\u001b[0;32m   1697\u001b[0m       name\u001b[38;5;241m.\u001b[39mdecode(\u001b[38;5;124m\"\u001b[39m\u001b[38;5;124mutf-8\u001b[39m\u001b[38;5;124m\"\u001b[39m),\n\u001b[0;32m   1698\u001b[0m       num_outputs\u001b[38;5;241m=\u001b[39mnum_outputs,\n\u001b[1;32m   (...)\u001b[0m\n\u001b[0;32m   1702\u001b[0m       cancellation_manager\u001b[38;5;241m=\u001b[39mcancellation_context,\n\u001b[0;32m   1703\u001b[0m   )\n",
      "File \u001b[1;32mc:\\Users\\Abel\\miniconda3\\envs\\wtf\\lib\\site-packages\\tensorflow\\python\\eager\\execute.py:53\u001b[0m, in \u001b[0;36mquick_execute\u001b[1;34m(op_name, num_outputs, inputs, attrs, ctx, name)\u001b[0m\n\u001b[0;32m     51\u001b[0m \u001b[38;5;28;01mtry\u001b[39;00m:\n\u001b[0;32m     52\u001b[0m   ctx\u001b[38;5;241m.\u001b[39mensure_initialized()\n\u001b[1;32m---> 53\u001b[0m   tensors \u001b[38;5;241m=\u001b[39m \u001b[43mpywrap_tfe\u001b[49m\u001b[38;5;241;43m.\u001b[39;49m\u001b[43mTFE_Py_Execute\u001b[49m\u001b[43m(\u001b[49m\u001b[43mctx\u001b[49m\u001b[38;5;241;43m.\u001b[39;49m\u001b[43m_handle\u001b[49m\u001b[43m,\u001b[49m\u001b[43m \u001b[49m\u001b[43mdevice_name\u001b[49m\u001b[43m,\u001b[49m\u001b[43m \u001b[49m\u001b[43mop_name\u001b[49m\u001b[43m,\u001b[49m\n\u001b[0;32m     54\u001b[0m \u001b[43m                                      \u001b[49m\u001b[43minputs\u001b[49m\u001b[43m,\u001b[49m\u001b[43m \u001b[49m\u001b[43mattrs\u001b[49m\u001b[43m,\u001b[49m\u001b[43m \u001b[49m\u001b[43mnum_outputs\u001b[49m\u001b[43m)\u001b[49m\n\u001b[0;32m     55\u001b[0m \u001b[38;5;28;01mexcept\u001b[39;00m core\u001b[38;5;241m.\u001b[39m_NotOkStatusException \u001b[38;5;28;01mas\u001b[39;00m e:\n\u001b[0;32m     56\u001b[0m   \u001b[38;5;28;01mif\u001b[39;00m name \u001b[38;5;129;01mis\u001b[39;00m \u001b[38;5;129;01mnot\u001b[39;00m \u001b[38;5;28;01mNone\u001b[39;00m:\n",
      "\u001b[1;31mKeyboardInterrupt\u001b[0m: "
     ]
    }
   ],
   "source": [
    "autoencoder.compile(optimizer='adam', loss=losses.MeanSquaredError()) # configuration of the model for training, adam is a stochastic gradient method that estimates moments\n",
    "autoencoder.fit(x_train_cx_small, x_train_cx_small,\n",
    "                epochs=10, # number of times the entire training dataset is run through the model\n",
    "                shuffle=True, # shuffles the data set before each training epoch\n",
    "                validation_data=(x_test_cx_small, x_test_cx_small)) # validation at the end of each epoch\n",
    "                # batch size is 32 by default\n",
    "\n",
    "autoencoder.summary()"
   ]
  },
  {
   "cell_type": "markdown",
   "id": "df5618ef",
   "metadata": {},
   "source": [
    "##### Load & save autoencoder model"
   ]
  },
  {
   "cell_type": "code",
   "execution_count": 8,
   "id": "ae1a4487",
   "metadata": {},
   "outputs": [],
   "source": [
    "autoencoder.save('autoencoder_10epochs_mnist_10x10.keras')"
   ]
  },
  {
   "cell_type": "code",
   "execution_count": 9,
   "id": "44102d97",
   "metadata": {},
   "outputs": [
    {
     "name": "stdout",
     "output_type": "stream",
     "text": [
      "WARNING:tensorflow:From c:\\Users\\Abel\\miniconda3\\envs\\wtf\\lib\\site-packages\\keras\\src\\backend\\tensorflow\\core.py:219: The name tf.placeholder is deprecated. Please use tf.compat.v1.placeholder instead.\n",
      "\n"
     ]
    },
    {
     "name": "stderr",
     "output_type": "stream",
     "text": [
      "WARNING: From c:\\Users\\Abel\\miniconda3\\envs\\wtf\\lib\\site-packages\\keras\\src\\backend\\tensorflow\\core.py:219: The name tf.placeholder is deprecated. Please use tf.compat.v1.placeholder instead.\n",
      "\n"
     ]
    },
    {
     "data": {
      "text/html": [
       "<pre style=\"white-space:pre;overflow-x:auto;line-height:normal;font-family:Menlo,'DejaVu Sans Mono',consolas,'Courier New',monospace\"><span style=\"font-weight: bold\">Model: \"autoencoder\"</span>\n",
       "</pre>\n"
      ],
      "text/plain": [
       "\u001b[1mModel: \"autoencoder\"\u001b[0m\n"
      ]
     },
     "metadata": {},
     "output_type": "display_data"
    },
    {
     "data": {
      "text/html": [
       "<pre style=\"white-space:pre;overflow-x:auto;line-height:normal;font-family:Menlo,'DejaVu Sans Mono',consolas,'Courier New',monospace\">┏━━━━━━━━━━━━━━━━━━━━━━━━━━━━━━━━━┳━━━━━━━━━━━━━━━━━━━━━━━━┳━━━━━━━━━━━━━━━┓\n",
       "┃<span style=\"font-weight: bold\"> Layer (type)                    </span>┃<span style=\"font-weight: bold\"> Output Shape           </span>┃<span style=\"font-weight: bold\">       Param # </span>┃\n",
       "┡━━━━━━━━━━━━━━━━━━━━━━━━━━━━━━━━━╇━━━━━━━━━━━━━━━━━━━━━━━━╇━━━━━━━━━━━━━━━┩\n",
       "│ sequential_2 (<span style=\"color: #0087ff; text-decoration-color: #0087ff\">Sequential</span>)       │ (<span style=\"color: #00af00; text-decoration-color: #00af00\">32</span>, <span style=\"color: #00af00; text-decoration-color: #00af00\">10</span>)               │         <span style=\"color: #00af00; text-decoration-color: #00af00\">1,010</span> │\n",
       "├─────────────────────────────────┼────────────────────────┼───────────────┤\n",
       "│ sequential_3 (<span style=\"color: #0087ff; text-decoration-color: #0087ff\">Sequential</span>)       │ (<span style=\"color: #00af00; text-decoration-color: #00af00\">32</span>, <span style=\"color: #00af00; text-decoration-color: #00af00\">10</span>, <span style=\"color: #00af00; text-decoration-color: #00af00\">10</span>)           │         <span style=\"color: #00af00; text-decoration-color: #00af00\">1,100</span> │\n",
       "└─────────────────────────────────┴────────────────────────┴───────────────┘\n",
       "</pre>\n"
      ],
      "text/plain": [
       "┏━━━━━━━━━━━━━━━━━━━━━━━━━━━━━━━━━┳━━━━━━━━━━━━━━━━━━━━━━━━┳━━━━━━━━━━━━━━━┓\n",
       "┃\u001b[1m \u001b[0m\u001b[1mLayer (type)                   \u001b[0m\u001b[1m \u001b[0m┃\u001b[1m \u001b[0m\u001b[1mOutput Shape          \u001b[0m\u001b[1m \u001b[0m┃\u001b[1m \u001b[0m\u001b[1m      Param #\u001b[0m\u001b[1m \u001b[0m┃\n",
       "┡━━━━━━━━━━━━━━━━━━━━━━━━━━━━━━━━━╇━━━━━━━━━━━━━━━━━━━━━━━━╇━━━━━━━━━━━━━━━┩\n",
       "│ sequential_2 (\u001b[38;5;33mSequential\u001b[0m)       │ (\u001b[38;5;34m32\u001b[0m, \u001b[38;5;34m10\u001b[0m)               │         \u001b[38;5;34m1,010\u001b[0m │\n",
       "├─────────────────────────────────┼────────────────────────┼───────────────┤\n",
       "│ sequential_3 (\u001b[38;5;33mSequential\u001b[0m)       │ (\u001b[38;5;34m32\u001b[0m, \u001b[38;5;34m10\u001b[0m, \u001b[38;5;34m10\u001b[0m)           │         \u001b[38;5;34m1,100\u001b[0m │\n",
       "└─────────────────────────────────┴────────────────────────┴───────────────┘\n"
      ]
     },
     "metadata": {},
     "output_type": "display_data"
    },
    {
     "data": {
      "text/html": [
       "<pre style=\"white-space:pre;overflow-x:auto;line-height:normal;font-family:Menlo,'DejaVu Sans Mono',consolas,'Courier New',monospace\"><span style=\"font-weight: bold\"> Total params: </span><span style=\"color: #00af00; text-decoration-color: #00af00\">6,332</span> (24.74 KB)\n",
       "</pre>\n"
      ],
      "text/plain": [
       "\u001b[1m Total params: \u001b[0m\u001b[38;5;34m6,332\u001b[0m (24.74 KB)\n"
      ]
     },
     "metadata": {},
     "output_type": "display_data"
    },
    {
     "data": {
      "text/html": [
       "<pre style=\"white-space:pre;overflow-x:auto;line-height:normal;font-family:Menlo,'DejaVu Sans Mono',consolas,'Courier New',monospace\"><span style=\"font-weight: bold\"> Trainable params: </span><span style=\"color: #00af00; text-decoration-color: #00af00\">2,110</span> (8.24 KB)\n",
       "</pre>\n"
      ],
      "text/plain": [
       "\u001b[1m Trainable params: \u001b[0m\u001b[38;5;34m2,110\u001b[0m (8.24 KB)\n"
      ]
     },
     "metadata": {},
     "output_type": "display_data"
    },
    {
     "data": {
      "text/html": [
       "<pre style=\"white-space:pre;overflow-x:auto;line-height:normal;font-family:Menlo,'DejaVu Sans Mono',consolas,'Courier New',monospace\"><span style=\"font-weight: bold\"> Non-trainable params: </span><span style=\"color: #00af00; text-decoration-color: #00af00\">0</span> (0.00 B)\n",
       "</pre>\n"
      ],
      "text/plain": [
       "\u001b[1m Non-trainable params: \u001b[0m\u001b[38;5;34m0\u001b[0m (0.00 B)\n"
      ]
     },
     "metadata": {},
     "output_type": "display_data"
    },
    {
     "data": {
      "text/html": [
       "<pre style=\"white-space:pre;overflow-x:auto;line-height:normal;font-family:Menlo,'DejaVu Sans Mono',consolas,'Courier New',monospace\"><span style=\"font-weight: bold\"> Optimizer params: </span><span style=\"color: #00af00; text-decoration-color: #00af00\">4,222</span> (16.50 KB)\n",
       "</pre>\n"
      ],
      "text/plain": [
       "\u001b[1m Optimizer params: \u001b[0m\u001b[38;5;34m4,222\u001b[0m (16.50 KB)\n"
      ]
     },
     "metadata": {},
     "output_type": "display_data"
    }
   ],
   "source": [
    "autoencoder_reconstructed = tf.keras.models.load_model('autoencoder_10epochs_mnist_10x10.keras')\n",
    "autoencoder_reconstructed.summary()"
   ]
  },
  {
   "cell_type": "code",
   "execution_count": 10,
   "id": "ea596d0e",
   "metadata": {},
   "outputs": [
    {
     "name": "stdout",
     "output_type": "stream",
     "text": [
      "(10000, 10)\n",
      "(10000, 10, 10)\n"
     ]
    },
    {
     "data": {
      "image/png": "[encoded data removed]",
      "text/plain": [
       "<Figure size 2000x400 with 20 Axes>"
      ]
     },
     "metadata": {},
     "output_type": "display_data"
    },
    {
     "data": {
      "text/html": [
       "<pre style=\"white-space:pre;overflow-x:auto;line-height:normal;font-family:Menlo,'DejaVu Sans Mono',consolas,'Courier New',monospace\"><span style=\"font-weight: bold\">Model: \"autoencoder\"</span>\n",
       "</pre>\n"
      ],
      "text/plain": [
       "\u001b[1mModel: \"autoencoder\"\u001b[0m\n"
      ]
     },
     "metadata": {},
     "output_type": "display_data"
    },
    {
     "data": {
      "text/html": [
       "<pre style=\"white-space:pre;overflow-x:auto;line-height:normal;font-family:Menlo,'DejaVu Sans Mono',consolas,'Courier New',monospace\">┏━━━━━━━━━━━━━━━━━━━━━━━━━━━━━━━━━┳━━━━━━━━━━━━━━━━━━━━━━━━┳━━━━━━━━━━━━━━━┓\n",
       "┃<span style=\"font-weight: bold\"> Layer (type)                    </span>┃<span style=\"font-weight: bold\"> Output Shape           </span>┃<span style=\"font-weight: bold\">       Param # </span>┃\n",
       "┡━━━━━━━━━━━━━━━━━━━━━━━━━━━━━━━━━╇━━━━━━━━━━━━━━━━━━━━━━━━╇━━━━━━━━━━━━━━━┩\n",
       "│ sequential (<span style=\"color: #0087ff; text-decoration-color: #0087ff\">Sequential</span>)         │ (<span style=\"color: #00af00; text-decoration-color: #00af00\">32</span>, <span style=\"color: #00af00; text-decoration-color: #00af00\">10</span>)               │         <span style=\"color: #00af00; text-decoration-color: #00af00\">1,010</span> │\n",
       "├─────────────────────────────────┼────────────────────────┼───────────────┤\n",
       "│ sequential_1 (<span style=\"color: #0087ff; text-decoration-color: #0087ff\">Sequential</span>)       │ (<span style=\"color: #00af00; text-decoration-color: #00af00\">32</span>, <span style=\"color: #00af00; text-decoration-color: #00af00\">10</span>, <span style=\"color: #00af00; text-decoration-color: #00af00\">10</span>)           │         <span style=\"color: #00af00; text-decoration-color: #00af00\">1,100</span> │\n",
       "└─────────────────────────────────┴────────────────────────┴───────────────┘\n",
       "</pre>\n"
      ],
      "text/plain": [
       "┏━━━━━━━━━━━━━━━━━━━━━━━━━━━━━━━━━┳━━━━━━━━━━━━━━━━━━━━━━━━┳━━━━━━━━━━━━━━━┓\n",
       "┃\u001b[1m \u001b[0m\u001b[1mLayer (type)                   \u001b[0m\u001b[1m \u001b[0m┃\u001b[1m \u001b[0m\u001b[1mOutput Shape          \u001b[0m\u001b[1m \u001b[0m┃\u001b[1m \u001b[0m\u001b[1m      Param #\u001b[0m\u001b[1m \u001b[0m┃\n",
       "┡━━━━━━━━━━━━━━━━━━━━━━━━━━━━━━━━━╇━━━━━━━━━━━━━━━━━━━━━━━━╇━━━━━━━━━━━━━━━┩\n",
       "│ sequential (\u001b[38;5;33mSequential\u001b[0m)         │ (\u001b[38;5;34m32\u001b[0m, \u001b[38;5;34m10\u001b[0m)               │         \u001b[38;5;34m1,010\u001b[0m │\n",
       "├─────────────────────────────────┼────────────────────────┼───────────────┤\n",
       "│ sequential_1 (\u001b[38;5;33mSequential\u001b[0m)       │ (\u001b[38;5;34m32\u001b[0m, \u001b[38;5;34m10\u001b[0m, \u001b[38;5;34m10\u001b[0m)           │         \u001b[38;5;34m1,100\u001b[0m │\n",
       "└─────────────────────────────────┴────────────────────────┴───────────────┘\n"
      ]
     },
     "metadata": {},
     "output_type": "display_data"
    },
    {
     "data": {
      "text/html": [
       "<pre style=\"white-space:pre;overflow-x:auto;line-height:normal;font-family:Menlo,'DejaVu Sans Mono',consolas,'Courier New',monospace\"><span style=\"font-weight: bold\"> Total params: </span><span style=\"color: #00af00; text-decoration-color: #00af00\">6,332</span> (24.74 KB)\n",
       "</pre>\n"
      ],
      "text/plain": [
       "\u001b[1m Total params: \u001b[0m\u001b[38;5;34m6,332\u001b[0m (24.74 KB)\n"
      ]
     },
     "metadata": {},
     "output_type": "display_data"
    },
    {
     "data": {
      "text/html": [
       "<pre style=\"white-space:pre;overflow-x:auto;line-height:normal;font-family:Menlo,'DejaVu Sans Mono',consolas,'Courier New',monospace\"><span style=\"font-weight: bold\"> Trainable params: </span><span style=\"color: #00af00; text-decoration-color: #00af00\">2,110</span> (8.24 KB)\n",
       "</pre>\n"
      ],
      "text/plain": [
       "\u001b[1m Trainable params: \u001b[0m\u001b[38;5;34m2,110\u001b[0m (8.24 KB)\n"
      ]
     },
     "metadata": {},
     "output_type": "display_data"
    },
    {
     "data": {
      "text/html": [
       "<pre style=\"white-space:pre;overflow-x:auto;line-height:normal;font-family:Menlo,'DejaVu Sans Mono',consolas,'Courier New',monospace\"><span style=\"font-weight: bold\"> Non-trainable params: </span><span style=\"color: #00af00; text-decoration-color: #00af00\">0</span> (0.00 B)\n",
       "</pre>\n"
      ],
      "text/plain": [
       "\u001b[1m Non-trainable params: \u001b[0m\u001b[38;5;34m0\u001b[0m (0.00 B)\n"
      ]
     },
     "metadata": {},
     "output_type": "display_data"
    },
    {
     "data": {
      "text/html": [
       "<pre style=\"white-space:pre;overflow-x:auto;line-height:normal;font-family:Menlo,'DejaVu Sans Mono',consolas,'Courier New',monospace\"><span style=\"font-weight: bold\"> Optimizer params: </span><span style=\"color: #00af00; text-decoration-color: #00af00\">4,222</span> (16.50 KB)\n",
       "</pre>\n"
      ],
      "text/plain": [
       "\u001b[1m Optimizer params: \u001b[0m\u001b[38;5;34m4,222\u001b[0m (16.50 KB)\n"
      ]
     },
     "metadata": {},
     "output_type": "display_data"
    }
   ],
   "source": [
    "encoded_imgs = autoencoder.encoder(x_test_small).numpy()\n",
    "print(encoded_imgs.shape)\n",
    "decoded_imgs = autoencoder.decoder(encoded_imgs).numpy()\n",
    "print(decoded_imgs.shape)\n",
    "\n",
    "ns = 10\n",
    "plt.figure(figsize=(20, 4))\n",
    "for i in range(ns):\n",
    "  # display original\n",
    "  ax = plt.subplot(2, ns, i + 1)\n",
    "  plt.imshow(x_test_small[i])\n",
    "  plt.title(\"original\")\n",
    "  plt.gray()\n",
    "  ax.get_xaxis().set_visible(False)\n",
    "  ax.get_yaxis().set_visible(False)\n",
    "\n",
    "  # display reconstruction\n",
    "  ax = plt.subplot(2, ns, i + 1 + ns)\n",
    "  plt.imshow(decoded_imgs[i])\n",
    "  plt.title(\"reconstructed\")\n",
    "  plt.gray()\n",
    "  ax.get_xaxis().set_visible(False)\n",
    "  ax.get_yaxis().set_visible(False)\n",
    "plt.show()\n",
    "\n",
    "autoencoder.summary()\n"
   ]
  },
  {
   "cell_type": "markdown",
   "id": "9de89a64",
   "metadata": {},
   "source": [
    "#### Extracting autoencoder function"
   ]
  },
  {
   "cell_type": "code",
   "execution_count": 11,
   "id": "6cc3a47e",
   "metadata": {},
   "outputs": [
    {
     "name": "stdout",
     "output_type": "stream",
     "text": [
      "(1, 10, 10)\n"
     ]
    },
    {
     "data": {
      "text/plain": [
       "<matplotlib.image.AxesImage at 0x274ccea72e0>"
      ]
     },
     "execution_count": 11,
     "metadata": {},
     "output_type": "execute_result"
    },
    {
     "data": {
      "image/png": "[encoded data removed]",
      "text/plain": [
       "<Figure size 640x480 with 1 Axes>"
      ]
     },
     "metadata": {},
     "output_type": "display_data"
    }
   ],
   "source": [
    "# random input looks like this\n",
    "z_random = np.random.normal(size=(1,10))\n",
    "test_z = autoencoder.decoder(z_random) #test_z is a tf \n",
    "print(test_z.shape)\n",
    "\n",
    "plt.figure()\n",
    "plt.imshow(test_z[0])"
   ]
  },
  {
   "cell_type": "code",
   "execution_count": null,
   "id": "3921a8e9",
   "metadata": {},
   "outputs": [
    {
     "name": "stdout",
     "output_type": "stream",
     "text": [
      "(1, 100)\n",
      "(1, 100, 10)\n",
      "tf.Tensor([[1. 1. 1. 1. 1. 1. 1. 1. 1. 1.]], shape=(1, 10), dtype=float32)\n"
     ]
    }
   ],
   "source": [
    "# OLD SAVE FOR NOW IF IT GETS WORSE\n",
    "# # compute gradient function\n",
    "# def grad_decoder_1D(decoder, input_dim):\n",
    "#     '''\n",
    "#     first wrap decoder into tensorflow function to improve computation speed\n",
    "#     specifically also changes 2D output to 1D output\n",
    "\n",
    "#     input:\n",
    "#         decoder:        the autoencoder.decoder as input, maps 1D input z to 2D output\n",
    "#         input_dim:      int, size of the input dimension (usually representing latent space)\n",
    "\n",
    "#     output:\n",
    "#         jac_operator:   a function that computes the jacobian wrt input z and returns the gradients and output in terms of a tensor\n",
    "\n",
    "#     '''\n",
    "#     decoder_1D = lambda x : tf.reshape(decoder(x), [tf.shape(decoder(x))[0], -1])\n",
    "\n",
    "#     @tf.function(reduce_retracing=True)\n",
    "#     def jac_operator(z):\n",
    "#         '''\n",
    "#         input:\n",
    "#             z:      vector in the latent space, size = (sample size, dimension latent space)\n",
    "#         '''\n",
    "#         z = tf.convert_to_tensor(z) # leaves z unchanged if input is already in form of tf.tensor\n",
    "#         z = tf.reshape(z, [-1, input_dim]) # leaves z unchanged if size is already shaped (sample size, dim latent space), else performs 2D array conversion\n",
    "\n",
    "#         with tf.GradientTape() as tape:\n",
    "#             tape.watch(z)           # record derivatives\n",
    "#             output = decoder_1D(z)     # the function to compute the derivative of\n",
    "\n",
    "#         # gradient wrt z = (batch size, input length)\n",
    "#         gradients = tape.batch_jacobian(output, z)\n",
    "\n",
    "#         return output, gradients\n",
    "    \n",
    "#     return jac_operator\n",
    "\n",
    "# def make_tensor_shape(z):\n",
    "#     #z = z.reshape((1,-1))\n",
    "#     tensor_z = tf.convert_to_tensor(z, dtype=tf.float32)\n",
    "#     return tf.reshape(tensor_z,[1,-1])\n",
    "\n",
    "\n",
    "# decoderfun_2D  = lambda z : autoencoder.decoder(z) \n",
    "\n",
    "# test_jac = grad_decoder_1D(decoderfun_2D, latent_dim)\n",
    "# output, grads = test_jac(z_random)\n",
    "\n",
    "# print(output.shape)\n",
    "# print(grads.shape)"
   ]
  },
  {
   "cell_type": "code",
   "execution_count": 12,
   "id": "fac24c9f",
   "metadata": {},
   "outputs": [
    {
     "name": "stdout",
     "output_type": "stream",
     "text": [
      "(10000, 10)\n",
      "(100,)\n",
      "<class 'numpy.ndarray'>\n",
      "(100, 10)\n"
     ]
    }
   ],
   "source": [
    "# compute function generative map\n",
    "def make_tensor_shape(z):\n",
    "    #z = z.reshape((1,-1))\n",
    "    tensor_z = tf.convert_to_tensor(z, dtype=tf.float32)\n",
    "    return tf.reshape(tensor_z,[1,-1])\n",
    "\n",
    "def make_tensor(z):\n",
    "    return tf.convert_to_tensor(z, dtype=tf.float32)\n",
    "\n",
    "def decoderfunc_1D(decoder, z):\n",
    "    '''\n",
    "    Converts the autoencoder.decoder function into a generative embedding function.\n",
    "\n",
    "    input:\n",
    "        decoder:        keras sequential (intended use: autoencoder.decoder), numpy.array(sample size, latent_dim) --> tensor(sample size, dim x dim))    \n",
    "        z:              np.array of length (latent_dim)\n",
    "\n",
    "    output:\n",
    "        decoderfunc_1D: function that maps z to numpy array of lenght dim^2 (flattened original image)\n",
    "    '''\n",
    "    return decoder(tf.reshape(make_tensor(z), [1,-1])).numpy().flatten() \n",
    "\n",
    "# compute Jacobian generative map\n",
    "def jac_decoder_1D(decoder, input_dim):\n",
    "    '''\n",
    "    currently creates function that only handles 1D input\n",
    "\n",
    "    first wrap decoder into tensorflow function to improve computation speed\n",
    "    specifically also changes 2D output to 1D output\n",
    "    can only handle z as 1D input\n",
    "\n",
    "    input:\n",
    "        decoder:        keras sequential, numpy.array(sample size, latent_dim) --> tensor(sample size, dim x dim)) \n",
    "        input_dim:      int, size of the input dimension (usually representing latent space)\n",
    "\n",
    "    output:\n",
    "        jac_operator:   a function that computes the jacobian wrt input z and returns the gradients and output in terms of a tensor\n",
    "\n",
    "    '''\n",
    "    decoder_1D = lambda x : tf.reshape(decoder(x), [tf.shape(decoder(x))[0], -1])\n",
    "\n",
    "    @tf.function(reduce_retracing=True)\n",
    "    def jac_operator_tf(z):\n",
    "        '''\n",
    "        input:\n",
    "            z:      vector in the latent space, np.array of length input_dim\n",
    "        '''\n",
    "        z = tf.convert_to_tensor(z) # leaves z unchanged if input is already in form of tf.tensor\n",
    "        z = tf.reshape(z, [1, input_dim]) # leaves z unchanged if size is already shaped (sample size, dim latent space), else performs 2D array conversion\n",
    "\n",
    "        with tf.GradientTape() as tape:\n",
    "            tape.watch(z)           # record derivatives\n",
    "            output = decoder_1D(z)     # the function to compute the derivative of\n",
    "\n",
    "        # gradient wrt z = (batch size, input length)\n",
    "        gradients = tape.batch_jacobian(output, z)\n",
    "\n",
    "        return gradients\n",
    "    \n",
    "    def jac_operator(z):\n",
    "        gradients = jac_operator_tf(z)\n",
    "        return gradients[0].numpy()\n",
    "\n",
    "    return jac_operator\n",
    "\n",
    "\n",
    "encode = autoencoder.encoder(x_test_small)\n",
    "print(encode.shape)\n",
    "\n",
    "x1 = encode[0,:] # test object\n",
    "y1 = decoderfunc_1D(autoencoder.decoder, x1)\n",
    "print(y1.shape)\n",
    "y1_recon = y1.reshape((10,10))\n",
    "\n",
    "compute_jac = jac_decoder_1D(autoencoder.decoder, latent_dim)\n",
    "dGdx = compute_jac(x1)\n",
    "\n",
    "print(type(dGdx))\n",
    "print(dGdx.shape)\n"
   ]
  },
  {
   "cell_type": "markdown",
   "id": "1e57d273",
   "metadata": {},
   "source": [
    "### Set-up from ptygenography"
   ]
  },
  {
   "cell_type": "code",
   "execution_count": 28,
   "id": "5615aec5",
   "metadata": {},
   "outputs": [],
   "source": [
    "class Op:\n",
    "    def __init__(self, fun, jac, shape):\n",
    "        self.eval = fun\n",
    "        self.jac = jac\n",
    "        self.shape = shape\n",
    "        \n",
    "def objective(z, y, A, G, w=1, lmbda = 0):\n",
    "    \"\"\"\n",
    "    LS objective\n",
    "        (0.5)*\\|A(G(z)) - y\\|_2^2 + 0.5*lmbda**2*\\|w*z\\|_2^2\n",
    "    \"\"\"\n",
    "    if len(y) != A.shape[0]:\n",
    "        print(\"y and A don't match\")\n",
    "        return\n",
    "    if len(z)//2 != G.shape[1]:\n",
    "        print(\"z and G don't match\")\n",
    "        return\n",
    "    if A.shape[1] != G.shape[0]:\n",
    "        print(\"A and G don't match!\")\n",
    "        return\n",
    "    \n",
    "    k  = len(z)//2\n",
    "    zc = z[:k] + 1j*z[k:]\n",
    "    \n",
    "    xc = G.eval(zc)\n",
    "    Dx = G.jac(zc)\n",
    "\n",
    "    #print(\"Dx\", Dx.shape)\n",
    "    \n",
    "    yp = A.eval(xc)\n",
    "    Dy = A.jac(xc)\n",
    "\n",
    "    #print(\"Dy\", Dy.shape)\n",
    "\n",
    "    val    = (0.5)*np.linalg.norm(yp - y)**2 + (0.5*lmbda**2)*np.linalg.norm(w*zc)**2\n",
    "    gradc  = Dx.H@(Dy.H@(yp - y)) + (lmbda**2)*(w*w)*zc\n",
    "    \n",
    "    grad  = np.concatenate((np.real(gradc), np.imag(gradc)))\n",
    "    \n",
    "    return val, grad\n",
    "\n",
    "def reconstruct(xtrue, A, G, w=1, sigma=0, lmbda=0):\n",
    "    # sizes\n",
    "    m,n = A.shape\n",
    "    n,k = G.shape\n",
    "    \n",
    "    # generate data\n",
    "    yobs  = A.eval(xtrue) + sigma*np.random.randn(m)\n",
    "\n",
    "    print(\"xtrue\", xtrue.shape)\n",
    "    print(\"yobs\", yobs.shape)\n",
    "    print(\"k\", k)\n",
    "    print(\"m\", m)\n",
    "\n",
    "    # inference\n",
    "    result = minimize(objective, x0=np.ones(2*k), args=(yobs, A, G, w, lmbda), method='L-BFGS-B', jac=True)\n",
    "    \n",
    "    # result\n",
    "    zhat = result.x[:k] + 1j*result.x[k:]\n",
    "    xhat = G.eval(zhat)\n",
    "    \n",
    "    # correct global phase\n",
    "    phi = np.mean(np.angle(xtrue/xhat))\n",
    "    xhat_corr = np.exp(1j*phi)*xhat\n",
    "    \n",
    "    # relative error\n",
    "    error = np.linalg.norm(xhat_corr - xtrue)/np.linalg.norm(xtrue)\n",
    "    \n",
    "    # return\n",
    "    return error, xhat_corr, yobs\n",
    "\n",
    "def plot_result(xtrue, xhat):\n",
    "    n  = len(xtrue)\n",
    "    nx = int(np.sqrt(n))\n",
    "    \n",
    "    # plot results\n",
    "    fig, ax = plt.subplots(2,2)\n",
    "\n",
    "    ax[0,0].imshow(np.real(xtrue.reshape((nx,nx))),clim=[0,1])\n",
    "    ax[0,0].set_title(r'$\\Re(x_{true})$')\n",
    "    ax[1,0].imshow(np.imag(xtrue.reshape((nx,nx))),clim=[0,1])\n",
    "    ax[1,0].set_title(r'$\\Im(x_{true})$')\n",
    "    ax[0,1].imshow(np.real(xhat.reshape((nx,nx))),clim=[0,1])\n",
    "    ax[0,1].set_title(r'$\\Re(x_{est})$')\n",
    "    ax[1,1].imshow(np.imag(xhat.reshape((nx,nx))),clim=[0,1])\n",
    "    ax[1,1].set_title(r'$\\Im(x_{est})$')\n",
    "\n",
    "    fig.tight_layout()"
   ]
  },
  {
   "cell_type": "code",
   "execution_count": 14,
   "id": "5c5f9989",
   "metadata": {},
   "outputs": [],
   "source": [
    "def MaskedFourier(M):\n",
    "    \"\"\"\n",
    "    Defined masked 2D fourier transform as linear operator.\n",
    "    \n",
    "    input:\n",
    "        M - 3D array of size n x n x m containing m masks of size n x n\n",
    "        \n",
    "    out:\n",
    "        A - linear operator representing the masked Fourier transforms\n",
    "        \n",
    "    \n",
    "    \"\"\"\n",
    "    nx = M.shape[0]\n",
    "    mx = M.shape[2]\n",
    "    \n",
    "    mv  = lambda x : fft2(M*(x.reshape((nx,nx,1))), axes=(0,1)).flatten()\n",
    "    rmv = lambda y : nx*nx*np.sum(np.conj(M)*ifft2(y.reshape((nx,nx,mx)), axes=(0,1)),axis=2).flatten()\n",
    "    A   = LinearOperator((mx*nx*nx, nx*nx), matvec=mv, rmatvec=rmv) # rmatvec is conjugate operation, so A^H * v\n",
    "    \n",
    "    return A"
   ]
  },
  {
   "cell_type": "code",
   "execution_count": 15,
   "id": "e603f7a6",
   "metadata": {},
   "outputs": [],
   "source": [
    "# parameters\n",
    "mx      = 10       # number of masks\n",
    "nx      = shape[0]  # one side of the image\n",
    "n       = nx**2     # total length of one image"
   ]
  },
  {
   "cell_type": "code",
   "execution_count": 16,
   "id": "9814a74d",
   "metadata": {},
   "outputs": [
    {
     "name": "stdout",
     "output_type": "stream",
     "text": [
      "(1000, 100)\n"
     ]
    }
   ],
   "source": [
    "# define forward operator with binary masks\n",
    "m  = mx * n\n",
    "\n",
    "M = np.random.randn(nx,nx,mx)\n",
    "M[M<0]=0\n",
    "M[M>0]=1\n",
    "\n",
    "MF   = MaskedFourier(M)\n",
    "print(MF.shape)\n",
    "Afun = lambda x : np.abs(MF@x)**2\n",
    "Ajac = lambda x : LinearOperator((m, n), matvec=lambda z : 2*(MF@x)*np.conj(MF@np.conj(z)), rmatvec=lambda z : 2*(MF.H@((MF@x)*z)))\n",
    "\n",
    "A    = Op(fun = Afun, jac = Ajac, shape=(m,n))"
   ]
  },
  {
   "cell_type": "code",
   "execution_count": 26,
   "id": "013bb903",
   "metadata": {},
   "outputs": [
    {
     "name": "stdout",
     "output_type": "stream",
     "text": [
      "(100, 10)\n",
      "(10, 100)\n",
      "<class 'scipy.sparse.linalg._interface._CustomLinearOperator'>\n",
      "<class 'scipy.sparse.linalg._interface._CustomLinearOperator'>\n",
      "(100,)\n",
      "(100, 110)\n",
      "(100,)\n",
      "(100, 110)\n",
      "(110, 100)\n"
     ]
    }
   ],
   "source": [
    "# get prior from decoder\n",
    "k               = latent_dim\n",
    "compute_jac     = jac_decoder_1D(autoencoder.decoder, latent_dim)\n",
    "block_identity  = lambda mat : np.concatenate((mat, np.eye(n)), axis=1)\n",
    "\n",
    "\n",
    "#define generative models\n",
    "I = Op(fun = lambda z : z, jac = lambda z: LinearOperator((n, n), matvec = lambda z : z, rmatvec = lambda z : z), shape=(n,n))\n",
    "\n",
    "G = Op(fun = lambda z : decoderfunc_1D(autoencoder.decoder, z), \n",
    "       jac = lambda z : LinearOperator((n,k), matvec = lambda v : compute_jac(z) @ v, rmatvec = lambda v : np.conj(compute_jac(z).T) @ v),\n",
    "       shape = (n,k))\n",
    "\n",
    "H = Op(fun = lambda z : decoderfunc_1D(autoencoder.decoder, z[:k]) + z[k:], \n",
    "       jac = lambda z : LinearOperator((n,k+n), matvec = lambda v : block_identity(compute_jac(z[:k])) @ v, rmatvec = lambda v : np.conj(block_identity(compute_jac(z[:k])).T) @ v),\n",
    "       shape = (n,k+n))\n",
    "\n",
    "# G = Op(fun = lambda z : decoderfunc_1D(autoencoder.decoder, z), \n",
    "#        jac = lambda z: (\n",
    "#                 lambda grads: LinearOperator(\n",
    "#                     (n, k),\n",
    "#                     matvec=lambda v: grads @ v,\n",
    "#                     rmatvec=lambda v: np.conj(grads.T) @ v\n",
    "#                 )\n",
    "#             )(decoderfun_1D(make_tensor_shape(z))[1].numpy()), \n",
    "#         shape = (n,k))\n",
    "\n",
    "# H = Op(fun = lambda z : (decoderfun_1D(make_tensor_shape(z[:,:k]))[0].numpy() + z[:,k:]).flatten(), \n",
    "#        jac = lambda z: (\n",
    "#                 lambda grads: LinearOperator(\n",
    "#                     (n, k+n),\n",
    "#                     matvec=lambda v: grads @ v,\n",
    "#                     rmatvec=lambda v: np.conj(grads.T) @ v\n",
    "#                 )\n",
    "#             )(np.concatenate((decoderfun_1D(make_tensor_shape(z[:,:k]))[1].numpy()[0], np.eye(n)), axis=1)),  \n",
    "#         shape=(n, k+n))\n",
    "\n",
    "\n",
    "#G = Op(fun = lambda z : decoderfun_1D(make_tensor(z))[0].numpy(),  \n",
    "       #jac = lambda z : LinearOperator((n, k), matvec = lambda x : decoderfun_1D(make_tensor(z))[1].numpy()@x, rmatvec = lambda y : np.conj(decoderfun_1D(make_tensor(z))[1].numpy().T)@y), shape=(n,k))\n",
    "#H = Op(fun = lambda z : mu + C@z, jac = lambda z : LinearOperator((n, k+n), matvec = lambda z : C@z, rmatvec = lambda z : np.conj(C.T)@z), shape=(n,k+n))\n",
    "\n",
    "# define weights\n",
    "w = 1\n",
    "\n",
    "# test\n",
    "z_testing = np.ones(10)\n",
    "x_testing = np.ones(100)\n",
    "y_testing = np.ones((1000))\n",
    "h_testing = np.ones((110))\n",
    "\n",
    "G_jac = G.jac(z_testing)\n",
    "G_H = G_jac.H\n",
    "\n",
    "print(G_jac.shape)\n",
    "print(G_H.shape)\n",
    "\n",
    "print(type(G_jac))\n",
    "print(type(G_H))\n",
    "\n",
    "G_jac@z_testing\n",
    "print((G_jac@z_testing).shape)\n",
    "\n",
    "H_test = block_identity(compute_jac(z_testing))\n",
    "\n",
    "print(H_test.shape)\n",
    "\n",
    "H_func = H.eval(h_testing)\n",
    "H_jac = H.jac(h_testing)\n",
    "H_H = H_jac.H\n",
    "\n",
    "print(H_func.shape)\n",
    "print(H_jac.shape)\n",
    "print(H_H.shape)\n"
   ]
  },
  {
   "cell_type": "code",
   "execution_count": null,
   "id": "86b296fc",
   "metadata": {},
   "outputs": [
    {
     "name": "stdout",
     "output_type": "stream",
     "text": [
      "(10000, 64)\n",
      "(1, 64)\n",
      "(1, 784)\n",
      "(1, 28, 28)\n"
     ]
    },
    {
     "data": {
      "text/plain": [
       "<matplotlib.image.AxesImage at 0x1d2a495e8b0>"
      ]
     },
     "execution_count": 29,
     "metadata": {},
     "output_type": "execute_result"
    },
    {
     "data": {
      "image/png": "[encoded data removed]",
      "text/plain": [
       "<Figure size 640x480 with 1 Axes>"
      ]
     },
     "metadata": {},
     "output_type": "display_data"
    }
   ],
   "source": [
    "# test going from 1D to 2D\n",
    "encoded_imgs = autoencoder.encoder(x_test).numpy()\n",
    "print(encoded_imgs.shape)\n",
    "\n",
    "one_test_img = np.zeros((1,latent_dim))\n",
    "one_test_img[0,:] = encoded_imgs[0,:]\n",
    "print(one_test_img.shape)\n",
    "\n",
    "test_G = G.eval(one_test_img)\n",
    "print(test_G.shape)\n",
    "restored = test_G.reshape((1,nx,nx))\n",
    "print(restored.shape)\n",
    "\n",
    "plt.figure()\n",
    "plt.imshow(restored[0])\n"
   ]
  },
  {
   "cell_type": "code",
   "execution_count": 279,
   "id": "c6b4adc5",
   "metadata": {},
   "outputs": [
    {
     "name": "stdout",
     "output_type": "stream",
     "text": [
      "(10, 10)\n"
     ]
    }
   ],
   "source": [
    "xtrue = x_test_small[0].numpy()\n",
    "xtrue_1D = xtrue.reshape((1, -1))\n",
    "print(xtrue.shape)"
   ]
  },
  {
   "cell_type": "code",
   "execution_count": 284,
   "id": "6501943e",
   "metadata": {},
   "outputs": [
    {
     "name": "stdout",
     "output_type": "stream",
     "text": [
      "y (1000,)\n",
      "xc (100,)\n",
      "Dx (100, 10)\n",
      "yp (1000,)\n",
      "Dy (1000, 100)\n",
      "gradc (10,)\n",
      "grad (20,)\n"
     ]
    }
   ],
   "source": [
    "z = np.ones(k)\n",
    "w = 1\n",
    "lmbda = 0\n",
    "sigma = 0\n",
    "\n",
    "xtrue = x_test_small[0].numpy()\n",
    "xtrue_1D = xtrue.flatten()\n",
    "\n",
    "y = A.eval(xtrue_1D) + sigma*np.random.randn(m)\n",
    "\n",
    "#k  = len(z)//2\n",
    "#zc = z[:k] + 1j*z[k:]\n",
    "\n",
    "#print(\"zc\", zc.shape)\n",
    "\n",
    "print(\"y\", y.shape)\n",
    "\n",
    "xc = G.eval(z)\n",
    "Dx = G.jac(z)\n",
    "\n",
    "print(\"xc\", xc.shape)\n",
    "print(\"Dx\", Dx.shape)\n",
    "    \n",
    "yp = A.eval(xc)\n",
    "Dy = A.jac(xc)\n",
    "\n",
    "print(\"yp\", yp.shape)\n",
    "print(\"Dy\", Dy.shape)\n",
    "\n",
    "val    = (0.5)*np.linalg.norm(yp - y)**2 + (0.5*lmbda**2)*np.linalg.norm(w*zc)**2    \n",
    "gradc  = Dx.H@(Dy.H@(yp - y)) + (lmbda**2)*(w*w)*z\n",
    "\n",
    "print(\"gradc\", gradc.shape)\n",
    "    \n",
    "grad  = np.concatenate((np.real(gradc), np.imag(gradc)))\n",
    "\n",
    "print(\"grad\", grad.shape)"
   ]
  },
  {
   "cell_type": "code",
   "execution_count": 29,
   "id": "a1fa354a",
   "metadata": {},
   "outputs": [
    {
     "name": "stdout",
     "output_type": "stream",
     "text": [
      "(100,)\n",
      "xtrue (100,)\n",
      "yobs (1000,)\n",
      "k 110\n",
      "m 1000\n",
      "WARNING:tensorflow:You are casting an input of type complex128 to an incompatible dtype float32.  This will discard the imaginary part and may not be what you intended.\n"
     ]
    },
    {
     "name": "stderr",
     "output_type": "stream",
     "text": [
      "c:\\Users\\Abel\\miniconda3\\envs\\wtf\\lib\\site-packages\\tensorflow\\python\\framework\\constant_op.py:108: ComplexWarning: Casting complex values to real discards the imaginary part\n",
      "  return ops.EagerTensor(value, ctx.device_name, dtype)\n",
      "WARNING: You are casting an input of type complex128 to an incompatible dtype float32.  This will discard the imaginary part and may not be what you intended.\n"
     ]
    },
    {
     "name": "stdout",
     "output_type": "stream",
     "text": [
      "WARNING:tensorflow:You are casting an input of type complex128 to an incompatible dtype float32.  This will discard the imaginary part and may not be what you intended.\n"
     ]
    },
    {
     "name": "stderr",
     "output_type": "stream",
     "text": [
      "WARNING: You are casting an input of type complex128 to an incompatible dtype float32.  This will discard the imaginary part and may not be what you intended.\n"
     ]
    },
    {
     "data": {
      "text/plain": [
       "<matplotlib.image.AxesImage at 0x274d84b61f0>"
      ]
     },
     "execution_count": 29,
     "metadata": {},
     "output_type": "execute_result"
    },
    {
     "data": {
      "image/png": "[encoded data removed]",
      "text/plain": [
       "<Figure size 640x480 with 1 Axes>"
      ]
     },
     "metadata": {},
     "output_type": "display_data"
    },
    {
     "data": {
      "image/png": "[encoded data removed]",
      "text/plain": [
       "<Figure size 640x480 with 1 Axes>"
      ]
     },
     "metadata": {},
     "output_type": "display_data"
    }
   ],
   "source": [
    "# test with l2\n",
    "xtrue = x_test_small[0].numpy()\n",
    "plt.figure()\n",
    "plt.imshow(xtrue)\n",
    "\n",
    "xtrue_1D = xtrue.flatten()\n",
    "print(xtrue_1D.shape)\n",
    "\n",
    "error, xhat_corr, yobs = reconstruct(xtrue_1D, A, H, w=1, sigma=0, lmbda=0)\n",
    "\n",
    "xhat_corr = xhat_corr.reshape((nx,nx))\n",
    "\n",
    "plt.figure()\n",
    "plt.imshow(np.real(xhat_corr))"
   ]
  }
 ],
 "metadata": {
  "kernelspec": {
   "display_name": "wtf",
   "language": "python",
   "name": "python3"
  },
  "language_info": {
   "codemirror_mode": {
    "name": "ipython",
    "version": 3
   },
   "file_extension": ".py",
   "mimetype": "text/x-python",
   "name": "python",
   "nbconvert_exporter": "python",
   "pygments_lexer": "ipython3",
   "version": "3.9.21"
  }
 },
 "nbformat": 4,
 "nbformat_minor": 5
}
