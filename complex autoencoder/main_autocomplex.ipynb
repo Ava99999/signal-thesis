{
 "cells": [
  {
   "cell_type": "code",
   "execution_count": 27,
   "id": "e465fce9",
   "metadata": {},
   "outputs": [],
   "source": [
    "#%load_ext autoreload\n",
    "%reload_ext autoreload\n",
    "%autoreload 2\n",
    "\n",
    "import tensorflow as tf\n",
    "import matplotlib.pyplot as plt\n",
    "import numpy as np\n",
    "import pandas as pd\n",
    "import time\n",
    "import scipy\n",
    "import random\n",
    "import cmath\n",
    "#import pylops # might not need\n",
    "import math\n",
    "import pyproximal\n",
    "\n",
    "from sklearn.metrics import accuracy_score, precision_score, recall_score\n",
    "from sklearn.model_selection import train_test_split\n",
    "from tensorflow.keras import layers, losses\n",
    "from tensorflow.keras.datasets import fashion_mnist, mnist\n",
    "from tensorflow.keras.models import Model\n",
    "from tensorflow.keras.saving import register_keras_serializable, deserialize_keras_object\n",
    "from tensorflow.test import compute_gradient\n",
    "from tensorflow.compat.v1 import assign_sub\n",
    "\n",
    "from scipy.sparse.linalg import LinearOperator\n",
    "from scipy.fft import fft, ifft, fft2, ifft2\n",
    "from scipy.optimize import minimize\n",
    "\n",
    "import autosetup \n",
    "from backpropagation import CBP, CBP_decoder\n",
    "from complex_optimizer import Complex_SGD, adaptive_stepsize"
   ]
  },
  {
   "cell_type": "code",
   "execution_count": 3,
   "id": "6243d911",
   "metadata": {},
   "outputs": [
    {
     "name": "stdout",
     "output_type": "stream",
     "text": [
      "TensorFlow version: 2.19.0\n"
     ]
    }
   ],
   "source": [
    "print(\"TensorFlow version:\", tf.__version__)"
   ]
  },
  {
   "cell_type": "markdown",
   "id": "9ed190db",
   "metadata": {},
   "source": [
    "Some nice tensorflow links\n",
    "https://www.tensorflow.org/guide/keras/making_new_layers_and_models_via_subclassing#putting_it_all_together_an_end-to-end_example \n",
    "https://www.tensorflow.org/guide/keras/functional_api\n",
    "https://www.tensorflow.org/api_docs/python/tf/keras/Layer#used-in-the-notebooks\n",
    "https://www.tensorflow.org/api_docs/python/tf/keras/Layer#call"
   ]
  },
  {
   "cell_type": "markdown",
   "id": "64642c61",
   "metadata": {},
   "source": [
    "## Autoencoder"
   ]
  },
  {
   "cell_type": "markdown",
   "id": "d00bbead",
   "metadata": {},
   "source": [
    "### Dataset"
   ]
  },
  {
   "cell_type": "code",
   "execution_count": 3,
   "id": "3ae6f68b",
   "metadata": {},
   "outputs": [],
   "source": [
    "# code from: https://www.tensorflow.org/tutorials/generative/autoencoder"
   ]
  },
  {
   "cell_type": "code",
   "execution_count": 4,
   "id": "1653b30e",
   "metadata": {},
   "outputs": [
    {
     "name": "stdout",
     "output_type": "stream",
     "text": [
      "(60000, 28, 28)\n",
      "(10000, 28, 28)\n",
      "(60000, 10, 10)\n",
      "(10000, 10, 10)\n",
      "(60000, 10, 10)\n",
      "<class 'tensorflow.python.framework.ops.EagerTensor'>\n",
      "10000\n"
     ]
    }
   ],
   "source": [
    "(x_train, _), (x_test, _) = mnist.load_data()\n",
    "\n",
    "x_train = x_train.astype('float32') / 255. #normalize the data\n",
    "x_test = x_test.astype('float32') / 255.\n",
    "\n",
    "print(x_train.shape)\n",
    "print(x_test.shape)\n",
    "\n",
    "# make a smaller training set\n",
    "x_train_temp = x_train[..., tf.newaxis]\n",
    "x_train_temp = tf.image.resize(x_train_temp, [10,10])\n",
    "x_train_small = x_train_temp[:,:,:,0]\n",
    "\n",
    "x_test_temp = x_test[..., tf.newaxis]\n",
    "x_test_temp = tf.image.resize(x_test_temp, [10,10])\n",
    "x_test_small = x_test_temp[:,:,:,0]\n",
    "\n",
    "#x_train_small = tf.image.resize(x_train, [10, 10])\n",
    "#x_test_small = tf.image.resize(x_test, [10, 10])\n",
    "\n",
    "print(x_train_small.shape)\n",
    "print(x_test_small.shape)\n",
    "\n",
    "# make a complex (smaller) training set\n",
    "x_train_cx_small = tf.complex(np.ones((x_train_small.shape)).astype('float32'), x_train_small)\n",
    "x_test_cx_small = tf.complex(np.ones((x_test_small.shape)).astype('float32'), x_test_small)\n",
    "\n",
    "# make the training set smaller for testing code\n",
    "x_train_cx_reduced = x_train_cx_small[0:10000, :, :]\n",
    "\n",
    "print(x_train_cx_small.shape)\n",
    "print(type(x_train_cx_small))\n",
    "\n",
    "print(x_train_cx_reduced.shape[0])"
   ]
  },
  {
   "cell_type": "code",
   "execution_count": 5,
   "id": "f2f5faaa",
   "metadata": {},
   "outputs": [
    {
     "data": {
      "image/png": "[encoded data removed]",
      "text/plain": [
       "<Figure size 640x480 with 5 Axes>"
      ]
     },
     "metadata": {},
     "output_type": "display_data"
    }
   ],
   "source": [
    "# representation training dataset (real case)\n",
    "ns = 5\n",
    "fig, ax = plt.subplots(1,ns)\n",
    "\n",
    "for i in range(ns):\n",
    "    x = x_train_small[i]\n",
    "    ax[i].imshow(np.real(x).reshape((10,10)),clim=[0,1])\n",
    "    ax[i].set_xticks([])\n",
    "    ax[i].set_yticks([])\n",
    "fig.tight_layout()"
   ]
  },
  {
   "cell_type": "code",
   "execution_count": 6,
   "id": "acad1eab",
   "metadata": {},
   "outputs": [
    {
     "data": {
      "image/png": "[encoded data removed]",
      "text/plain": [
       "<Figure size 640x480 with 10 Axes>"
      ]
     },
     "metadata": {},
     "output_type": "display_data"
    }
   ],
   "source": [
    "ns = 5\n",
    "fig, ax = plt.subplots(2,ns)\n",
    "\n",
    "for i in range(ns):\n",
    "    x = x_train_cx_small[i]\n",
    "    ax[0,i].imshow(np.real(x).reshape((10,10)),clim=[0,1], cmap= 'viridis')\n",
    "    ax[0,i].set_xticks([])\n",
    "    ax[0,i].set_yticks([])\n",
    "    ax[1,i].imshow(np.imag(x).reshape((10,10)),clim=[0,1], cmap='viridis')\n",
    "    ax[1,i].set_xticks([])\n",
    "    ax[1,i].set_yticks([])\n",
    "fig.tight_layout()\n"
   ]
  },
  {
   "cell_type": "markdown",
   "id": "b12ea2bf",
   "metadata": {},
   "source": [
    "### Training loop"
   ]
  },
  {
   "cell_type": "code",
   "execution_count": 7,
   "id": "481a9dac",
   "metadata": {},
   "outputs": [],
   "source": [
    "# wrapper for training\n",
    "@tf.function\n",
    "def train_step(x, alpha, encoder, decoder, optimizer):\n",
    "    y = decoder(encoder(x))\n",
    "    loss_value = autosetup.loss_MSE(y, x)\n",
    "    grads_and_vars = CBP(x, y, encoder, decoder, autosetup.dLossdaL, autosetup.Jac_modrelu)\n",
    "    new_alpha = adaptive_stepsize(x, y, alpha, encoder, decoder, autosetup.loss_MSE, grads_and_vars)\n",
    "    _ = optimizer.apply_gradients(grads_and_vars, alpha = alpha)\n",
    "    return loss_value, new_alpha"
   ]
  },
  {
   "cell_type": "code",
   "execution_count": 8,
   "id": "78244d5b",
   "metadata": {},
   "outputs": [
    {
     "name": "stdout",
     "output_type": "stream",
     "text": [
      "10000\n",
      "100\n",
      "<class 'tensorflow.python.data.ops.batch_op._BatchDataset'>\n",
      "\n",
      "Start of epoch 1\n",
      "Training loss (for one sample) at sample 1000: 15.9018\n",
      "Training loss (for one sample) at sample 2000: 9.9714\n",
      "Training loss (for one sample) at sample 3000: 6.6921\n",
      "Training loss (for one sample) at sample 4000: 5.7248\n",
      "Training loss (for one sample) at sample 5000: 5.1333\n",
      "Training loss (for one sample) at sample 6000: 4.5401\n",
      "Training loss (for one sample) at sample 7000: 6.0431\n",
      "Training loss (for one sample) at sample 8000: 5.2879\n",
      "Training loss (for one sample) at sample 9000: 7.5531\n",
      "Training loss (for one sample) at sample 10000: 3.2747\n",
      "Epoch 1 | Loss: 8.42721 | Max grad norm: \n",
      "Time taken: 19.54s\n",
      "\n",
      "Start of epoch 2\n",
      "Training loss (for one sample) at sample 1000: 4.0743\n",
      "Training loss (for one sample) at sample 2000: 5.6846\n",
      "Training loss (for one sample) at sample 3000: 3.0908\n",
      "Training loss (for one sample) at sample 4000: 3.7672\n",
      "Training loss (for one sample) at sample 5000: 2.4482\n",
      "Training loss (for one sample) at sample 6000: 6.3468\n",
      "Training loss (for one sample) at sample 7000: 5.0581\n",
      "Training loss (for one sample) at sample 8000: 4.5870\n",
      "Training loss (for one sample) at sample 9000: 7.7144\n",
      "Training loss (for one sample) at sample 10000: 6.4057\n",
      "Epoch 2 | Loss: 5.23490 | Max grad norm: \n",
      "Time taken: 17.67s\n"
     ]
    }
   ],
   "source": [
    "# ref: https://www.tensorflow.org/guide/keras/writing_a_training_loop_from_scratch\n",
    "\n",
    "# parameters (might move somewhere else)\n",
    "EPOCHS = 2\n",
    "dataset = x_train_cx_reduced\n",
    "dataset_size = dataset.shape[0]\n",
    "reshape_dataset = tf.reshape(dataset, (dataset_size,-1))\n",
    "sample_shape = reshape_dataset.shape[-1]\n",
    "print(dataset_size)\n",
    "print(sample_shape)\n",
    "#train_dataset = tf.data.Dataset.from_tensor_slices(reshape_dataset).batch(1)\n",
    "\n",
    "train_dataset = (\n",
    "    tf.data.Dataset.from_tensor_slices(reshape_dataset)\n",
    "    .shuffle(dataset_size, reshuffle_each_iteration=True) # reshuffle the entire dataset\n",
    "    .batch(1)\n",
    ")\n",
    "\n",
    "encoder = autosetup.ComplexEncoder([50, 10])\n",
    "decoder = autosetup.ComplexDecoder([50, 100])\n",
    "\n",
    "# initialize layers: on first call their shape is set based on the shapes of the first data\n",
    "dummy = tf.zeros((1, sample_shape), dtype=tf.complex64)\n",
    "_ = decoder(encoder(dummy))\n",
    "\n",
    "print(type(train_dataset))\n",
    "\n",
    "optimizer = Complex_SGD()\n",
    "alpha = 1e-4 # initial value\n",
    "\n",
    "for epoch in range(EPOCHS):\n",
    "    print(f\"\\nStart of epoch {epoch+1}\")\n",
    "    start_time = time.time()\n",
    "\n",
    "    count = 0\n",
    "    epoch_loss = 0.0\n",
    "    for x in train_dataset:\n",
    "        loss, alpha = train_step(x, alpha, encoder, decoder, optimizer)\n",
    "\n",
    "        count += 1 # this is a bit ugly\n",
    "        epoch_loss += loss.numpy()\n",
    "\n",
    "        if count % (dataset_size/10) == 0:\n",
    "            print(\n",
    "                \"Training loss (for one sample) at sample %d: %.4f\"\n",
    "                % (count, float(loss))\n",
    "            )\n",
    "\n",
    "    avg_loss = epoch_loss/(dataset_size)\n",
    "    print(f\"Epoch {epoch+1} | Loss: {avg_loss:.5f} | Max grad norm: \") # {max_grad_norm:.2f} TODO\n",
    "    print(\"Time taken: %.2fs\" % (time.time() - start_time))"
   ]
  },
  {
   "cell_type": "code",
   "execution_count": null,
   "id": "c494670b",
   "metadata": {},
   "outputs": [
    {
     "ename": "AttributeError",
     "evalue": "'ComplexDecoder' object has no attribute 'Model'",
     "output_type": "error",
     "traceback": [
      "\u001b[1;31m---------------------------------------------------------------------------\u001b[0m",
      "\u001b[1;31mAttributeError\u001b[0m                            Traceback (most recent call last)",
      "Cell \u001b[1;32mIn[13], line 2\u001b[0m\n\u001b[0;32m      1\u001b[0m \u001b[38;5;66;03m# save the decoder weights\u001b[39;00m\n\u001b[1;32m----> 2\u001b[0m \u001b[43mdecoder\u001b[49m\u001b[38;5;241;43m.\u001b[39;49m\u001b[43mModel\u001b[49m\u001b[38;5;241m.\u001b[39msave_weights(\u001b[38;5;124m\"\u001b[39m\u001b[38;5;124msaved_decoder_weightstest.h5\u001b[39m\u001b[38;5;124m\"\u001b[39m)\n",
      "\u001b[1;31mAttributeError\u001b[0m: 'ComplexDecoder' object has no attribute 'Model'"
     ]
    }
   ],
   "source": [
    "# save the decoder weights\n",
    "# THIS ONLY WORKS IF YOU WRAP THE DECODER IN A MODEL \n",
    "decoder.Model.save_weights(\"saved_decoder_weightstest.weights.h5\")"
   ]
  },
  {
   "cell_type": "code",
   "execution_count": null,
   "id": "95b0acf1",
   "metadata": {},
   "outputs": [],
   "source": [
    "# load the decoder weights"
   ]
  },
  {
   "cell_type": "markdown",
   "id": "6987db3b",
   "metadata": {},
   "source": [
    "### Testing (temporary)"
   ]
  },
  {
   "cell_type": "code",
   "execution_count": null,
   "id": "c0572838",
   "metadata": {},
   "outputs": [
    {
     "name": "stdout",
     "output_type": "stream",
     "text": [
      "(1, 100)\n",
      "<class 'tensorflow.python.framework.ops.EagerTensor'>\n",
      "6\n",
      "2\n",
      "value initial loss function tf.Tensor(540.5137, shape=(), dtype=float32)\n",
      "list of gradients 12\n",
      "(100, 10)\n",
      "(100, 10)\n",
      "<class 'tensorflow.python.framework.ops.EagerTensor'>\n",
      "(1, 10)\n",
      "(100, 10)\n",
      "<class 'numpy.ndarray'>\n",
      "[[0.+0.j 0.+0.j 0.+0.j 0.+0.j 0.+0.j 0.+0.j 0.+0.j 0.+0.j 0.+0.j 0.+0.j]\n",
      " [0.+0.j 0.+0.j 0.+0.j 0.+0.j 0.+0.j 0.+0.j 0.+0.j 0.+0.j 0.+0.j 0.+0.j]\n",
      " [0.+0.j 0.+0.j 0.+0.j 0.+0.j 0.+0.j 0.+0.j 0.+0.j 0.+0.j 0.+0.j 0.+0.j]\n",
      " [0.+0.j 0.+0.j 0.+0.j 0.+0.j 0.+0.j 0.+0.j 0.+0.j 0.+0.j 0.+0.j 0.+0.j]\n",
      " [0.+0.j 0.+0.j 0.+0.j 0.+0.j 0.+0.j 0.+0.j 0.+0.j 0.+0.j 0.+0.j 0.+0.j]\n",
      " [0.+0.j 0.+0.j 0.+0.j 0.+0.j 0.+0.j 0.+0.j 0.+0.j 0.+0.j 0.+0.j 0.+0.j]\n",
      " [0.+0.j 0.+0.j 0.+0.j 0.+0.j 0.+0.j 0.+0.j 0.+0.j 0.+0.j 0.+0.j 0.+0.j]\n",
      " [0.+0.j 0.+0.j 0.+0.j 0.+0.j 0.+0.j 0.+0.j 0.+0.j 0.+0.j 0.+0.j 0.+0.j]\n",
      " [0.+0.j 0.+0.j 0.+0.j 0.+0.j 0.+0.j 0.+0.j 0.+0.j 0.+0.j 0.+0.j 0.+0.j]\n",
      " [0.+0.j 0.+0.j 0.+0.j 0.+0.j 0.+0.j 0.+0.j 0.+0.j 0.+0.j 0.+0.j 0.+0.j]\n",
      " [0.+0.j 0.+0.j 0.+0.j 0.+0.j 0.+0.j 0.+0.j 0.+0.j 0.+0.j 0.+0.j 0.+0.j]\n",
      " [0.+0.j 0.+0.j 0.+0.j 0.+0.j 0.+0.j 0.+0.j 0.+0.j 0.+0.j 0.+0.j 0.+0.j]\n",
      " [0.+0.j 0.+0.j 0.+0.j 0.+0.j 0.+0.j 0.+0.j 0.+0.j 0.+0.j 0.+0.j 0.+0.j]\n",
      " [0.+0.j 0.+0.j 0.+0.j 0.+0.j 0.+0.j 0.+0.j 0.+0.j 0.+0.j 0.+0.j 0.+0.j]\n",
      " [0.+0.j 0.+0.j 0.+0.j 0.+0.j 0.+0.j 0.+0.j 0.+0.j 0.+0.j 0.+0.j 0.+0.j]\n",
      " [0.+0.j 0.+0.j 0.+0.j 0.+0.j 0.+0.j 0.+0.j 0.+0.j 0.+0.j 0.+0.j 0.+0.j]\n",
      " [0.+0.j 0.+0.j 0.+0.j 0.+0.j 0.+0.j 0.+0.j 0.+0.j 0.+0.j 0.+0.j 0.+0.j]\n",
      " [0.+0.j 0.+0.j 0.+0.j 0.+0.j 0.+0.j 0.+0.j 0.+0.j 0.+0.j 0.+0.j 0.+0.j]\n",
      " [0.+0.j 0.+0.j 0.+0.j 0.+0.j 0.+0.j 0.+0.j 0.+0.j 0.+0.j 0.+0.j 0.+0.j]\n",
      " [0.+0.j 0.+0.j 0.+0.j 0.+0.j 0.+0.j 0.+0.j 0.+0.j 0.+0.j 0.+0.j 0.+0.j]\n",
      " [0.+0.j 0.+0.j 0.+0.j 0.+0.j 0.+0.j 0.+0.j 0.+0.j 0.+0.j 0.+0.j 0.+0.j]\n",
      " [0.+0.j 0.+0.j 0.+0.j 0.+0.j 0.+0.j 0.+0.j 0.+0.j 0.+0.j 0.+0.j 0.+0.j]\n",
      " [0.+0.j 0.+0.j 0.+0.j 0.+0.j 0.+0.j 0.+0.j 0.+0.j 0.+0.j 0.+0.j 0.+0.j]\n",
      " [0.+0.j 0.+0.j 0.+0.j 0.+0.j 0.+0.j 0.+0.j 0.+0.j 0.+0.j 0.+0.j 0.+0.j]\n",
      " [0.+0.j 0.+0.j 0.+0.j 0.+0.j 0.+0.j 0.+0.j 0.+0.j 0.+0.j 0.+0.j 0.+0.j]\n",
      " [0.+0.j 0.+0.j 0.+0.j 0.+0.j 0.+0.j 0.+0.j 0.+0.j 0.+0.j 0.+0.j 0.+0.j]\n",
      " [0.+0.j 0.+0.j 0.+0.j 0.+0.j 0.+0.j 0.+0.j 0.+0.j 0.+0.j 0.+0.j 0.+0.j]\n",
      " [0.+0.j 0.+0.j 0.+0.j 0.+0.j 0.+0.j 0.+0.j 0.+0.j 0.+0.j 0.+0.j 0.+0.j]\n",
      " [0.+0.j 0.+0.j 0.+0.j 0.+0.j 0.+0.j 0.+0.j 0.+0.j 0.+0.j 0.+0.j 0.+0.j]\n",
      " [0.+0.j 0.+0.j 0.+0.j 0.+0.j 0.+0.j 0.+0.j 0.+0.j 0.+0.j 0.+0.j 0.+0.j]\n",
      " [0.+0.j 0.+0.j 0.+0.j 0.+0.j 0.+0.j 0.+0.j 0.+0.j 0.+0.j 0.+0.j 0.+0.j]\n",
      " [0.+0.j 0.+0.j 0.+0.j 0.+0.j 0.+0.j 0.+0.j 0.+0.j 0.+0.j 0.+0.j 0.+0.j]\n",
      " [0.+0.j 0.+0.j 0.+0.j 0.+0.j 0.+0.j 0.+0.j 0.+0.j 0.+0.j 0.+0.j 0.+0.j]\n",
      " [0.+0.j 0.+0.j 0.+0.j 0.+0.j 0.+0.j 0.+0.j 0.+0.j 0.+0.j 0.+0.j 0.+0.j]\n",
      " [0.+0.j 0.+0.j 0.+0.j 0.+0.j 0.+0.j 0.+0.j 0.+0.j 0.+0.j 0.+0.j 0.+0.j]\n",
      " [0.+0.j 0.+0.j 0.+0.j 0.+0.j 0.+0.j 0.+0.j 0.+0.j 0.+0.j 0.+0.j 0.+0.j]\n",
      " [0.+0.j 0.+0.j 0.+0.j 0.+0.j 0.+0.j 0.+0.j 0.+0.j 0.+0.j 0.+0.j 0.+0.j]\n",
      " [0.+0.j 0.+0.j 0.+0.j 0.+0.j 0.+0.j 0.+0.j 0.+0.j 0.+0.j 0.+0.j 0.+0.j]\n",
      " [0.+0.j 0.+0.j 0.+0.j 0.+0.j 0.+0.j 0.+0.j 0.+0.j 0.+0.j 0.+0.j 0.+0.j]\n",
      " [0.+0.j 0.+0.j 0.+0.j 0.+0.j 0.+0.j 0.+0.j 0.+0.j 0.+0.j 0.+0.j 0.+0.j]\n",
      " [0.+0.j 0.+0.j 0.+0.j 0.+0.j 0.+0.j 0.+0.j 0.+0.j 0.+0.j 0.+0.j 0.+0.j]\n",
      " [0.+0.j 0.+0.j 0.+0.j 0.+0.j 0.+0.j 0.+0.j 0.+0.j 0.+0.j 0.+0.j 0.+0.j]\n",
      " [0.+0.j 0.+0.j 0.+0.j 0.+0.j 0.+0.j 0.+0.j 0.+0.j 0.+0.j 0.+0.j 0.+0.j]\n",
      " [0.+0.j 0.+0.j 0.+0.j 0.+0.j 0.+0.j 0.+0.j 0.+0.j 0.+0.j 0.+0.j 0.+0.j]\n",
      " [0.+0.j 0.+0.j 0.+0.j 0.+0.j 0.+0.j 0.+0.j 0.+0.j 0.+0.j 0.+0.j 0.+0.j]\n",
      " [0.+0.j 0.+0.j 0.+0.j 0.+0.j 0.+0.j 0.+0.j 0.+0.j 0.+0.j 0.+0.j 0.+0.j]\n",
      " [0.+0.j 0.+0.j 0.+0.j 0.+0.j 0.+0.j 0.+0.j 0.+0.j 0.+0.j 0.+0.j 0.+0.j]\n",
      " [0.+0.j 0.+0.j 0.+0.j 0.+0.j 0.+0.j 0.+0.j 0.+0.j 0.+0.j 0.+0.j 0.+0.j]\n",
      " [0.+0.j 0.+0.j 0.+0.j 0.+0.j 0.+0.j 0.+0.j 0.+0.j 0.+0.j 0.+0.j 0.+0.j]\n",
      " [0.+0.j 0.+0.j 0.+0.j 0.+0.j 0.+0.j 0.+0.j 0.+0.j 0.+0.j 0.+0.j 0.+0.j]\n",
      " [0.+0.j 0.+0.j 0.+0.j 0.+0.j 0.+0.j 0.+0.j 0.+0.j 0.+0.j 0.+0.j 0.+0.j]\n",
      " [0.+0.j 0.+0.j 0.+0.j 0.+0.j 0.+0.j 0.+0.j 0.+0.j 0.+0.j 0.+0.j 0.+0.j]\n",
      " [0.+0.j 0.+0.j 0.+0.j 0.+0.j 0.+0.j 0.+0.j 0.+0.j 0.+0.j 0.+0.j 0.+0.j]\n",
      " [0.+0.j 0.+0.j 0.+0.j 0.+0.j 0.+0.j 0.+0.j 0.+0.j 0.+0.j 0.+0.j 0.+0.j]\n",
      " [0.+0.j 0.+0.j 0.+0.j 0.+0.j 0.+0.j 0.+0.j 0.+0.j 0.+0.j 0.+0.j 0.+0.j]\n",
      " [0.+0.j 0.+0.j 0.+0.j 0.+0.j 0.+0.j 0.+0.j 0.+0.j 0.+0.j 0.+0.j 0.+0.j]\n",
      " [0.+0.j 0.+0.j 0.+0.j 0.+0.j 0.+0.j 0.+0.j 0.+0.j 0.+0.j 0.+0.j 0.+0.j]\n",
      " [0.+0.j 0.+0.j 0.+0.j 0.+0.j 0.+0.j 0.+0.j 0.+0.j 0.+0.j 0.+0.j 0.+0.j]\n",
      " [0.+0.j 0.+0.j 0.+0.j 0.+0.j 0.+0.j 0.+0.j 0.+0.j 0.+0.j 0.+0.j 0.+0.j]\n",
      " [0.+0.j 0.+0.j 0.+0.j 0.+0.j 0.+0.j 0.+0.j 0.+0.j 0.+0.j 0.+0.j 0.+0.j]\n",
      " [0.+0.j 0.+0.j 0.+0.j 0.+0.j 0.+0.j 0.+0.j 0.+0.j 0.+0.j 0.+0.j 0.+0.j]\n",
      " [0.+0.j 0.+0.j 0.+0.j 0.+0.j 0.+0.j 0.+0.j 0.+0.j 0.+0.j 0.+0.j 0.+0.j]\n",
      " [0.+0.j 0.+0.j 0.+0.j 0.+0.j 0.+0.j 0.+0.j 0.+0.j 0.+0.j 0.+0.j 0.+0.j]\n",
      " [0.+0.j 0.+0.j 0.+0.j 0.+0.j 0.+0.j 0.+0.j 0.+0.j 0.+0.j 0.+0.j 0.+0.j]\n",
      " [0.+0.j 0.+0.j 0.+0.j 0.+0.j 0.+0.j 0.+0.j 0.+0.j 0.+0.j 0.+0.j 0.+0.j]\n",
      " [0.+0.j 0.+0.j 0.+0.j 0.+0.j 0.+0.j 0.+0.j 0.+0.j 0.+0.j 0.+0.j 0.+0.j]\n",
      " [0.+0.j 0.+0.j 0.+0.j 0.+0.j 0.+0.j 0.+0.j 0.+0.j 0.+0.j 0.+0.j 0.+0.j]\n",
      " [0.+0.j 0.+0.j 0.+0.j 0.+0.j 0.+0.j 0.+0.j 0.+0.j 0.+0.j 0.+0.j 0.+0.j]\n",
      " [0.+0.j 0.+0.j 0.+0.j 0.+0.j 0.+0.j 0.+0.j 0.+0.j 0.+0.j 0.+0.j 0.+0.j]\n",
      " [0.+0.j 0.+0.j 0.+0.j 0.+0.j 0.+0.j 0.+0.j 0.+0.j 0.+0.j 0.+0.j 0.+0.j]\n",
      " [0.+0.j 0.+0.j 0.+0.j 0.+0.j 0.+0.j 0.+0.j 0.+0.j 0.+0.j 0.+0.j 0.+0.j]\n",
      " [0.+0.j 0.+0.j 0.+0.j 0.+0.j 0.+0.j 0.+0.j 0.+0.j 0.+0.j 0.+0.j 0.+0.j]\n",
      " [0.+0.j 0.+0.j 0.+0.j 0.+0.j 0.+0.j 0.+0.j 0.+0.j 0.+0.j 0.+0.j 0.+0.j]\n",
      " [0.+0.j 0.+0.j 0.+0.j 0.+0.j 0.+0.j 0.+0.j 0.+0.j 0.+0.j 0.+0.j 0.+0.j]\n",
      " [0.+0.j 0.+0.j 0.+0.j 0.+0.j 0.+0.j 0.+0.j 0.+0.j 0.+0.j 0.+0.j 0.+0.j]\n",
      " [0.+0.j 0.+0.j 0.+0.j 0.+0.j 0.+0.j 0.+0.j 0.+0.j 0.+0.j 0.+0.j 0.+0.j]\n",
      " [0.+0.j 0.+0.j 0.+0.j 0.+0.j 0.+0.j 0.+0.j 0.+0.j 0.+0.j 0.+0.j 0.+0.j]\n",
      " [0.+0.j 0.+0.j 0.+0.j 0.+0.j 0.+0.j 0.+0.j 0.+0.j 0.+0.j 0.+0.j 0.+0.j]\n",
      " [0.+0.j 0.+0.j 0.+0.j 0.+0.j 0.+0.j 0.+0.j 0.+0.j 0.+0.j 0.+0.j 0.+0.j]\n",
      " [0.+0.j 0.+0.j 0.+0.j 0.+0.j 0.+0.j 0.+0.j 0.+0.j 0.+0.j 0.+0.j 0.+0.j]\n",
      " [0.+0.j 0.+0.j 0.+0.j 0.+0.j 0.+0.j 0.+0.j 0.+0.j 0.+0.j 0.+0.j 0.+0.j]\n",
      " [0.+0.j 0.+0.j 0.+0.j 0.+0.j 0.+0.j 0.+0.j 0.+0.j 0.+0.j 0.+0.j 0.+0.j]\n",
      " [0.+0.j 0.+0.j 0.+0.j 0.+0.j 0.+0.j 0.+0.j 0.+0.j 0.+0.j 0.+0.j 0.+0.j]\n",
      " [0.+0.j 0.+0.j 0.+0.j 0.+0.j 0.+0.j 0.+0.j 0.+0.j 0.+0.j 0.+0.j 0.+0.j]\n",
      " [0.+0.j 0.+0.j 0.+0.j 0.+0.j 0.+0.j 0.+0.j 0.+0.j 0.+0.j 0.+0.j 0.+0.j]\n",
      " [0.+0.j 0.+0.j 0.+0.j 0.+0.j 0.+0.j 0.+0.j 0.+0.j 0.+0.j 0.+0.j 0.+0.j]\n",
      " [0.+0.j 0.+0.j 0.+0.j 0.+0.j 0.+0.j 0.+0.j 0.+0.j 0.+0.j 0.+0.j 0.+0.j]\n",
      " [0.+0.j 0.+0.j 0.+0.j 0.+0.j 0.+0.j 0.+0.j 0.+0.j 0.+0.j 0.+0.j 0.+0.j]\n",
      " [0.+0.j 0.+0.j 0.+0.j 0.+0.j 0.+0.j 0.+0.j 0.+0.j 0.+0.j 0.+0.j 0.+0.j]\n",
      " [0.+0.j 0.+0.j 0.+0.j 0.+0.j 0.+0.j 0.+0.j 0.+0.j 0.+0.j 0.+0.j 0.+0.j]\n",
      " [0.+0.j 0.+0.j 0.+0.j 0.+0.j 0.+0.j 0.+0.j 0.+0.j 0.+0.j 0.+0.j 0.+0.j]\n",
      " [0.+0.j 0.+0.j 0.+0.j 0.+0.j 0.+0.j 0.+0.j 0.+0.j 0.+0.j 0.+0.j 0.+0.j]\n",
      " [0.+0.j 0.+0.j 0.+0.j 0.+0.j 0.+0.j 0.+0.j 0.+0.j 0.+0.j 0.+0.j 0.+0.j]\n",
      " [0.+0.j 0.+0.j 0.+0.j 0.+0.j 0.+0.j 0.+0.j 0.+0.j 0.+0.j 0.+0.j 0.+0.j]\n",
      " [0.+0.j 0.+0.j 0.+0.j 0.+0.j 0.+0.j 0.+0.j 0.+0.j 0.+0.j 0.+0.j 0.+0.j]\n",
      " [0.+0.j 0.+0.j 0.+0.j 0.+0.j 0.+0.j 0.+0.j 0.+0.j 0.+0.j 0.+0.j 0.+0.j]\n",
      " [0.+0.j 0.+0.j 0.+0.j 0.+0.j 0.+0.j 0.+0.j 0.+0.j 0.+0.j 0.+0.j 0.+0.j]\n",
      " [0.+0.j 0.+0.j 0.+0.j 0.+0.j 0.+0.j 0.+0.j 0.+0.j 0.+0.j 0.+0.j 0.+0.j]\n",
      " [0.+0.j 0.+0.j 0.+0.j 0.+0.j 0.+0.j 0.+0.j 0.+0.j 0.+0.j 0.+0.j 0.+0.j]\n",
      " [0.+0.j 0.+0.j 0.+0.j 0.+0.j 0.+0.j 0.+0.j 0.+0.j 0.+0.j 0.+0.j 0.+0.j]]\n"
     ]
    }
   ],
   "source": [
    "# encoder neuron size should include latent_dim at end and not original dimension\n",
    "# decoder should include original_dim at end and not latent_dim\n",
    "\n",
    "encoder = autosetup.ComplexEncoder([50, 10])\n",
    "decoder = autosetup.ComplexDecoder([50, 100])\n",
    "\n",
    "# create x_example\n",
    "x_testing = tf.reshape(x_train_cx_small[0], [1,-1])\n",
    "print(x_testing.shape)\n",
    "print(type(x_testing))\n",
    "\n",
    "# output of the autoencoder model encoder (untrained)\n",
    "y = encoder(x_testing)\n",
    "#print(y)\n",
    "print(len(encoder.weights)) # #[layers] x #[objects in a layer]\n",
    "print(len(encoder.layers_list))\n",
    "\n",
    "# testing autoencoder decoder (untrained)\n",
    "z_testing = tf.complex(2.0*np.ones(10, dtype=np.float32), 1.2*np.ones(10, dtype=np.float32))\n",
    "x_recon = decoder(y)\n",
    "init_loss = autosetup.loss_MSE(x_recon, x_testing)\n",
    "print(\"value initial loss function\", init_loss)\n",
    "#print(x_recon)\n",
    "#print(decoder(z_testing))\n",
    "\n",
    "# testing backpropagation\n",
    "grads_and_vars = CBP(x_testing, x_recon, encoder, decoder, autosetup.dLossdaL, autosetup.Jac_modrelu)\n",
    "optimizer = Complex_SGD()\n",
    "\n",
    "print(\"list of gradients\", len(grads_and_vars))\n",
    "\n",
    "test1, test2 = CBP_decoder(y, decoder, autosetup.Jac_modrelu)\n",
    "\n",
    "print(test1.shape)\n",
    "print(test2.shape)\n",
    "\n",
    "print(type(test1))\n",
    "\n",
    "# test decoder func and jac wrapper\n",
    "num_y = y.numpy()\n",
    "print(num_y.shape)\n",
    "num_x_recon = decoderfunc_1D(num_y, decoder)\n",
    "\n",
    "test3 = jac_decoder_1D(num_y, decoder)\n",
    "print(test3.shape)\n",
    "print(type(test3))\n",
    "\n",
    "# for g, v in grads_and_vars:\n",
    "#     #print(f\"grad shape: {g.shape}, variable shape: {v.shape}\")\n",
    "#     print(v.name, type(v), hasattr(v, \"assign_sub\"))\n",
    "#     assert g.shape == v.shape\n",
    "\n",
    "# see if we see any change in loss \n",
    "# learning_rate = 0.001\n",
    "# for grad, var in grads_and_vars:\n",
    "#     var.assign_sub(learning_rate * grad)\n",
    "\n",
    "# y_update = encoder(x_testing)\n",
    "# x_update = decoder(y)\n",
    "# after_loss = autosetup.loss_MSE(x_update, x_testing)\n",
    "# print(\"value after training loss\", after_loss)"
   ]
  },
  {
   "cell_type": "code",
   "execution_count": null,
   "id": "be9da324",
   "metadata": {},
   "outputs": [],
   "source": [
    "## test step-size update\n",
    "grad_norm_squared = tf.add_n([tf.reduce_sum(tf.abs(g)**2) for g, _ in grads_and_vars])\n",
    "print(grad_norm_squared)\n",
    "max_trials = 10\n",
    "c1 = 1e-4\n",
    "rho = 0.5\n",
    "alpha0 = 1e-3\n",
    "\n",
    "snapshots = [tf.identity(v) for _, v in grads_and_vars] \n",
    "\n",
    "for trial in range(max_trials):\n",
    "    alpha = alpha0 * (rho**trial) # 0.5*alpha \n",
    "    print(alpha)\n",
    "\n",
    "    # simulate step\n",
    "    for grad, var in grads_and_vars:\n",
    "        var.assign_sub(alpha * grad)\n",
    "    \n",
    "    x_update = decoder(encoder(x_testing))\n",
    "    new_loss = autosetup.loss_MSE(x_update, x_testing)\n",
    "    print(f\"value new loss = {new_loss} at alpha = {alpha}\")\n",
    "\n",
    "    if new_loss <= init_loss - c1*alpha*grad_norm_squared:\n",
    "        break\n",
    "\n",
    "    # undo step (this is scary)\n",
    "    for (grad, var), snapshot in zip(grads_and_vars, snapshots):\n",
    "        var.assign(snapshot)"
   ]
  },
  {
   "cell_type": "code",
   "execution_count": 6,
   "id": "1043ce2b",
   "metadata": {},
   "outputs": [
    {
     "name": "stdout",
     "output_type": "stream",
     "text": [
      "complex tensor tf.Tensor([-10.-2.j  -5.-1.j   0.+0.j   5.+1.j  10.+2.j], shape=(5,), dtype=complex64)\n",
      "tf.Tensor(\n",
      "[-9.01942 -1.8038839j  -4.019419-0.80388385j  0.      +0.j\n",
      "  4.019419+0.80388385j  9.01942 +1.8038839j ], shape=(5,), dtype=complex64)\n",
      "[10.198039   5.0990195  0.         5.0990195 10.198039 ]\n",
      "[9.198039  4.0990195 0.        4.0990195 9.198039 ]\n",
      "tf.Tensor(260.0, shape=(), dtype=float32)\n",
      "(<tf.Tensor: shape=(5,), dtype=complex64, numpy=array([-10.+2.j,  -5.+1.j,   0.-0.j,   5.-1.j,  10.-2.j], dtype=complex64)>, <tf.Tensor: shape=(5,), dtype=complex64, numpy=array([-10.-2.j,  -5.-1.j,   0.+0.j,   5.+1.j,  10.+2.j], dtype=complex64)>)\n",
      "tf.Tensor(\n",
      "[[2 4]\n",
      " [6 8]], shape=(2, 2), dtype=int32)\n",
      "tf.Tensor(\n",
      "[[2 4]\n",
      " [6 8]], shape=(2, 2), dtype=int32)\n",
      "tf.Tensor(\n",
      "[[ 6  6]\n",
      " [14 14]], shape=(2, 2), dtype=int32)\n"
     ]
    }
   ],
   "source": [
    "# test activation fuction\n",
    "seq = np.array([-10,-5,0,5,10])\n",
    "c_seq = np.array([-2,-1,0,1,2])\n",
    "real_tensor = tf.convert_to_tensor(seq.astype('float32'))\n",
    "imag_tensor = tf.convert_to_tensor(c_seq.astype('float32'))\n",
    "c_tensor = tf.complex(real_tensor, imag_tensor)\n",
    "\n",
    "print(\"complex tensor\", c_tensor)\n",
    "modrelu = lambda z: autosetup.modrelu(z, b=-1)\n",
    "print(modrelu(c_tensor))\n",
    "print(np.abs(c_tensor))\n",
    "print(np.abs(modrelu(c_tensor)))\n",
    "\n",
    "# test Jacobian activation function\n",
    "#print(\"jacobians\", autosetup.Jac_modrelu(c_tensor))\n",
    "#print(\"absolute value c_tensor\", 2/tf.cast(tf.math.abs(c_tensor), c_tensor.dtype)**3)\n",
    "\n",
    "\n",
    "# test loss function \n",
    "aL = 2*c_tensor \n",
    "loss = autosetup.loss_MSE(aL, c_tensor)\n",
    "print(loss)\n",
    "\n",
    "print(autosetup.dLossdaL(aL, c_tensor))\n",
    "\n",
    "# stupid elementwise computation test\n",
    "x1 = tf.constant(([1,2],[3,4]))\n",
    "x2 = tf.constant(([2,2],[2,2]))\n",
    "print(tf.math.multiply(x1,x2))\n",
    "print(x1*x2)\n",
    "print(x1@x2)\n"
   ]
  },
  {
   "cell_type": "markdown",
   "id": "9de89a64",
   "metadata": {},
   "source": [
    "#### Extracting and wrapping autoencoder function"
   ]
  },
  {
   "cell_type": "code",
   "execution_count": 23,
   "id": "6cc3a47e",
   "metadata": {},
   "outputs": [
    {
     "name": "stdout",
     "output_type": "stream",
     "text": [
      "(1, 100)\n",
      "(1, 10, 10)\n",
      "(1, 100)\n"
     ]
    },
    {
     "data": {
      "text/plain": [
       "<matplotlib.image.AxesImage at 0x20a2a0cb9a0>"
      ]
     },
     "execution_count": 23,
     "metadata": {},
     "output_type": "execute_result"
    },
    {
     "data": {
      "image/png": "[encoded data removed]",
      "text/plain": [
       "<Figure size 640x480 with 1 Axes>"
      ]
     },
     "metadata": {},
     "output_type": "display_data"
    },
    {
     "data": {
      "image/png": "[encoded data removed]",
      "text/plain": [
       "<Figure size 640x480 with 1 Axes>"
      ]
     },
     "metadata": {},
     "output_type": "display_data"
    },
    {
     "data": {
      "image/png": "[encoded data removed]",
      "text/plain": [
       "<Figure size 640x480 with 1 Axes>"
      ]
     },
     "metadata": {},
     "output_type": "display_data"
    }
   ],
   "source": [
    "# random input looks like this\n",
    "z_random = np.random.normal(size=(1,10))\n",
    "test_z = decoder(z_random) #test_z is a tf \n",
    "print(test_z.shape)\n",
    "\n",
    "show_z = tf.reshape(test_z, (1,10,10))\n",
    "print(show_z.shape)\n",
    "\n",
    "im_z = tf.math.imag(show_z)\n",
    "\n",
    "plt.figure()\n",
    "plt.imshow(im_z[0])\n",
    "\n",
    "# an encoded digit looks like this\n",
    "x_testing = tf.reshape(x_train_cx_small[0], [1,-1])\n",
    "print(x_testing.shape)\n",
    "y = encoder(x_testing)\n",
    "\n",
    "x_recon = decoder(y)\n",
    "im_x = tf.math.imag(tf.reshape(x_recon, (1,10,10)))\n",
    "\n",
    "plt.figure()\n",
    "plt.imshow(im_x[0])\n",
    "\n",
    "plt.figure()\n",
    "plt.imshow(tf.math.imag(tf.reshape(x_testing, (1,10,10)))[0])"
   ]
  },
  {
   "cell_type": "code",
   "execution_count": null,
   "id": "fac24c9f",
   "metadata": {},
   "outputs": [],
   "source": [
    "# compute function generative map\n",
    "def make_tensor_shape(z):\n",
    "    #z = z.reshape((1,-1))\n",
    "    tensor_z = tf.convert_to_tensor(z, dtype=tf.complex64)\n",
    "    return tf.reshape(tensor_z,[1,-1])\n",
    "\n",
    "def make_tensor(z):\n",
    "    return tf.convert_to_tensor(z, dtype=tf.complex64)\n",
    "\n",
    "# wrapper for decoder to numpy function\n",
    "def decoderfunc_1D(z, decoder):\n",
    "    '''\n",
    "    Converts the autoencoder.decoder function into a generative embedding function. Note that the tf decoder also returns flattened images.\n",
    "\n",
    "    input:\n",
    "        z:              np.array of length (latent_dim)\n",
    "        decoder:        custom class autosetup.ComplexDecoder, numpy.array(sample size, latent_dim) --> tensor(sample size, dim^2))    \n",
    "\n",
    "    output:\n",
    "        decoderfunc_1D: function that maps z to numpy array of lenght dim^2 (flattened original image)\n",
    "    '''\n",
    "    return decoder(tf.reshape(make_tensor(z), [1,-1])).numpy()\n",
    "\n",
    "# wrapper for Jacobian computation to numpy function\n",
    "def jac_decoder_1D(z, decoder):\n",
    "    '''\n",
    "    Converts the CBP_decoder computation into a numpy function, outputting the R-derivative of the decoder in z as a numpy array\n",
    "    NOTE: activation function is hardcoded at this point\n",
    "\n",
    "    input:\n",
    "        z:              np.array of length (latent_dim)\n",
    "        decoder:        custom class autosetup.ComplexDecoder, numpy.array(sample size, latent_dim) --> tensor(sample size, dim^2))\n",
    "    '''\n",
    "    dG_dz, _ = CBP_decoder(tf.reshape(make_tensor(z), [1,-1]), decoder, autosetup.Jac_modrelu)\n",
    "    return dG_dz.numpy()"
   ]
  },
  {
   "cell_type": "markdown",
   "id": "1e57d273",
   "metadata": {},
   "source": [
    "### Integrate with least squares signal optimization"
   ]
  },
  {
   "cell_type": "code",
   "execution_count": 28,
   "id": "5615aec5",
   "metadata": {},
   "outputs": [],
   "source": [
    "class Op:\n",
    "    def __init__(self, fun, jac, shape):\n",
    "        self.eval = fun\n",
    "        self.jac = jac\n",
    "        self.shape = shape\n",
    "        \n",
    "def objective(z, y, A, G, w=1, lmbda = 0):\n",
    "    \"\"\"\n",
    "    LS objective\n",
    "        (0.5)*\\|A(G(z)) - y\\|_2^2 + 0.5*lmbda**2*\\|w*z\\|_2^2\n",
    "    \"\"\"\n",
    "    if len(y) != A.shape[0]:\n",
    "        print(\"y and A don't match\")\n",
    "        return\n",
    "    if len(z)//2 != G.shape[1]:\n",
    "        print(\"z and G don't match\")\n",
    "        return\n",
    "    if A.shape[1] != G.shape[0]:\n",
    "        print(\"A and G don't match!\")\n",
    "        return\n",
    "    \n",
    "    k  = len(z)//2\n",
    "    zc = z[:k] + 1j*z[k:]\n",
    "    \n",
    "    xc = G.eval(zc)\n",
    "    Dx = G.jac(zc)\n",
    "\n",
    "    #print(\"Dx\", Dx.shape)\n",
    "    \n",
    "    yp = A.eval(xc)\n",
    "    Dy = A.jac(xc)\n",
    "\n",
    "    #print(\"Dy\", Dy.shape)\n",
    "\n",
    "    val    = (0.5)*np.linalg.norm(yp - y)**2 + (0.5*lmbda**2)*np.linalg.norm(w*zc)**2\n",
    "    gradc  = Dx.H@(Dy.H@(yp - y)) + (lmbda**2)*(w*w)*zc\n",
    "    \n",
    "    grad  = np.concatenate((np.real(gradc), np.imag(gradc)))\n",
    "    \n",
    "    return val, grad\n",
    "\n",
    "def reconstruct(xtrue, A, G, w=1, sigma=0, lmbda=0):\n",
    "    # sizes\n",
    "    m,n = A.shape\n",
    "    n,k = G.shape\n",
    "    \n",
    "    # generate data\n",
    "    yobs  = A.eval(xtrue) + sigma*np.random.randn(m)\n",
    "\n",
    "    print(\"xtrue\", xtrue.shape)\n",
    "    print(\"yobs\", yobs.shape)\n",
    "    print(\"k\", k)\n",
    "    print(\"m\", m)\n",
    "\n",
    "    # inference\n",
    "    result = minimize(objective, x0=np.ones(2*k), args=(yobs, A, G, w, lmbda), method='L-BFGS-B', jac=True)\n",
    "    \n",
    "    # result\n",
    "    zhat = result.x[:k] + 1j*result.x[k:]\n",
    "    xhat = G.eval(zhat)\n",
    "    \n",
    "    # correct global phase\n",
    "    phi = np.mean(np.angle(xtrue/xhat))\n",
    "    xhat_corr = np.exp(1j*phi)*xhat\n",
    "    \n",
    "    # relative error\n",
    "    error = np.linalg.norm(xhat_corr - xtrue)/np.linalg.norm(xtrue)\n",
    "    \n",
    "    # return\n",
    "    return error, xhat_corr, yobs\n",
    "\n",
    "def plot_result(xtrue, xhat):\n",
    "    n  = len(xtrue)\n",
    "    nx = int(np.sqrt(n))\n",
    "    \n",
    "    # plot results\n",
    "    fig, ax = plt.subplots(2,2)\n",
    "\n",
    "    ax[0,0].imshow(np.real(xtrue.reshape((nx,nx))),clim=[0,1])\n",
    "    ax[0,0].set_title(r'$\\Re(x_{true})$')\n",
    "    ax[1,0].imshow(np.imag(xtrue.reshape((nx,nx))),clim=[0,1])\n",
    "    ax[1,0].set_title(r'$\\Im(x_{true})$')\n",
    "    ax[0,1].imshow(np.real(xhat.reshape((nx,nx))),clim=[0,1])\n",
    "    ax[0,1].set_title(r'$\\Re(x_{est})$')\n",
    "    ax[1,1].imshow(np.imag(xhat.reshape((nx,nx))),clim=[0,1])\n",
    "    ax[1,1].set_title(r'$\\Im(x_{est})$')\n",
    "\n",
    "    fig.tight_layout()"
   ]
  },
  {
   "cell_type": "code",
   "execution_count": 14,
   "id": "5c5f9989",
   "metadata": {},
   "outputs": [],
   "source": [
    "def MaskedFourier(M):\n",
    "    \"\"\"\n",
    "    Defined masked 2D fourier transform as linear operator.\n",
    "    \n",
    "    input:\n",
    "        M - 3D array of size n x n x m containing m masks of size n x n\n",
    "        \n",
    "    out:\n",
    "        A - linear operator representing the masked Fourier transforms\n",
    "        \n",
    "    \n",
    "    \"\"\"\n",
    "    nx = M.shape[0]\n",
    "    mx = M.shape[2]\n",
    "    \n",
    "    mv  = lambda x : fft2(M*(x.reshape((nx,nx,1))), axes=(0,1)).flatten()\n",
    "    rmv = lambda y : nx*nx*np.sum(np.conj(M)*ifft2(y.reshape((nx,nx,mx)), axes=(0,1)),axis=2).flatten()\n",
    "    A   = LinearOperator((mx*nx*nx, nx*nx), matvec=mv, rmatvec=rmv) # rmatvec is conjugate operation, so A^H * v\n",
    "    \n",
    "    return A"
   ]
  },
  {
   "cell_type": "code",
   "execution_count": 15,
   "id": "e603f7a6",
   "metadata": {},
   "outputs": [],
   "source": [
    "# parameters\n",
    "mx      = 10       # number of masks\n",
    "nx      = shape[0]  # one side of the image\n",
    "n       = nx**2     # total length of one image"
   ]
  },
  {
   "cell_type": "code",
   "execution_count": 16,
   "id": "9814a74d",
   "metadata": {},
   "outputs": [
    {
     "name": "stdout",
     "output_type": "stream",
     "text": [
      "(1000, 100)\n"
     ]
    }
   ],
   "source": [
    "# define forward operator with binary masks\n",
    "m  = mx * n\n",
    "\n",
    "M = np.random.randn(nx,nx,mx)\n",
    "M[M<0]=0\n",
    "M[M>0]=1\n",
    "\n",
    "MF   = MaskedFourier(M)\n",
    "print(MF.shape)\n",
    "Afun = lambda x : np.abs(MF@x)**2\n",
    "Ajac = lambda x : LinearOperator((m, n), matvec=lambda z : 2*(MF@x)*np.conj(MF@np.conj(z)), rmatvec=lambda z : 2*(MF.H@((MF@x)*z)))\n",
    "\n",
    "A    = Op(fun = Afun, jac = Ajac, shape=(m,n))"
   ]
  },
  {
   "cell_type": "code",
   "execution_count": 26,
   "id": "013bb903",
   "metadata": {},
   "outputs": [
    {
     "name": "stdout",
     "output_type": "stream",
     "text": [
      "(100, 10)\n",
      "(10, 100)\n",
      "<class 'scipy.sparse.linalg._interface._CustomLinearOperator'>\n",
      "<class 'scipy.sparse.linalg._interface._CustomLinearOperator'>\n",
      "(100,)\n",
      "(100, 110)\n",
      "(100,)\n",
      "(100, 110)\n",
      "(110, 100)\n"
     ]
    }
   ],
   "source": [
    "# get prior from decoder\n",
    "k               = latent_dim\n",
    "compute_jac     = jac_decoder_1D(autoencoder.decoder, latent_dim)\n",
    "block_identity  = lambda mat : np.concatenate((mat, np.eye(n)), axis=1)\n",
    "\n",
    "\n",
    "#define generative models\n",
    "I = Op(fun = lambda z : z, jac = lambda z: LinearOperator((n, n), matvec = lambda z : z, rmatvec = lambda z : z), shape=(n,n))\n",
    "\n",
    "G = Op(fun = lambda z : decoderfunc_1D(autoencoder.decoder, z), \n",
    "       jac = lambda z : LinearOperator((n,k), matvec = lambda v : compute_jac(z) @ v, rmatvec = lambda v : np.conj(compute_jac(z).T) @ v),\n",
    "       shape = (n,k))\n",
    "\n",
    "H = Op(fun = lambda z : decoderfunc_1D(autoencoder.decoder, z[:k]) + z[k:], \n",
    "       jac = lambda z : LinearOperator((n,k+n), matvec = lambda v : block_identity(compute_jac(z[:k])) @ v, rmatvec = lambda v : np.conj(block_identity(compute_jac(z[:k])).T) @ v),\n",
    "       shape = (n,k+n))\n",
    "\n",
    "# G = Op(fun = lambda z : decoderfunc_1D(autoencoder.decoder, z), \n",
    "#        jac = lambda z: (\n",
    "#                 lambda grads: LinearOperator(\n",
    "#                     (n, k),\n",
    "#                     matvec=lambda v: grads @ v,\n",
    "#                     rmatvec=lambda v: np.conj(grads.T) @ v\n",
    "#                 )\n",
    "#             )(decoderfun_1D(make_tensor_shape(z))[1].numpy()), \n",
    "#         shape = (n,k))\n",
    "\n",
    "# H = Op(fun = lambda z : (decoderfun_1D(make_tensor_shape(z[:,:k]))[0].numpy() + z[:,k:]).flatten(), \n",
    "#        jac = lambda z: (\n",
    "#                 lambda grads: LinearOperator(\n",
    "#                     (n, k+n),\n",
    "#                     matvec=lambda v: grads @ v,\n",
    "#                     rmatvec=lambda v: np.conj(grads.T) @ v\n",
    "#                 )\n",
    "#             )(np.concatenate((decoderfun_1D(make_tensor_shape(z[:,:k]))[1].numpy()[0], np.eye(n)), axis=1)),  \n",
    "#         shape=(n, k+n))\n",
    "\n",
    "\n",
    "#G = Op(fun = lambda z : decoderfun_1D(make_tensor(z))[0].numpy(),  \n",
    "       #jac = lambda z : LinearOperator((n, k), matvec = lambda x : decoderfun_1D(make_tensor(z))[1].numpy()@x, rmatvec = lambda y : np.conj(decoderfun_1D(make_tensor(z))[1].numpy().T)@y), shape=(n,k))\n",
    "#H = Op(fun = lambda z : mu + C@z, jac = lambda z : LinearOperator((n, k+n), matvec = lambda z : C@z, rmatvec = lambda z : np.conj(C.T)@z), shape=(n,k+n))\n",
    "\n",
    "# define weights\n",
    "w = 1\n",
    "\n",
    "# test\n",
    "z_testing = np.ones(10)\n",
    "x_testing = np.ones(100)\n",
    "y_testing = np.ones((1000))\n",
    "h_testing = np.ones((110))\n",
    "\n",
    "G_jac = G.jac(z_testing)\n",
    "G_H = G_jac.H\n",
    "\n",
    "print(G_jac.shape)\n",
    "print(G_H.shape)\n",
    "\n",
    "print(type(G_jac))\n",
    "print(type(G_H))\n",
    "\n",
    "G_jac@z_testing\n",
    "print((G_jac@z_testing).shape)\n",
    "\n",
    "H_test = block_identity(compute_jac(z_testing))\n",
    "\n",
    "print(H_test.shape)\n",
    "\n",
    "H_func = H.eval(h_testing)\n",
    "H_jac = H.jac(h_testing)\n",
    "H_H = H_jac.H\n",
    "\n",
    "print(H_func.shape)\n",
    "print(H_jac.shape)\n",
    "print(H_H.shape)\n"
   ]
  },
  {
   "cell_type": "code",
   "execution_count": null,
   "id": "86b296fc",
   "metadata": {},
   "outputs": [
    {
     "name": "stdout",
     "output_type": "stream",
     "text": [
      "(10000, 64)\n",
      "(1, 64)\n",
      "(1, 784)\n",
      "(1, 28, 28)\n"
     ]
    },
    {
     "data": {
      "text/plain": [
       "<matplotlib.image.AxesImage at 0x1d2a495e8b0>"
      ]
     },
     "execution_count": 29,
     "metadata": {},
     "output_type": "execute_result"
    },
    {
     "data": {
      "image/png": "[encoded data removed]",
      "text/plain": [
       "<Figure size 640x480 with 1 Axes>"
      ]
     },
     "metadata": {},
     "output_type": "display_data"
    }
   ],
   "source": [
    "# test going from 1D to 2D\n",
    "encoded_imgs = autoencoder.encoder(x_test).numpy()\n",
    "print(encoded_imgs.shape)\n",
    "\n",
    "one_test_img = np.zeros((1,latent_dim))\n",
    "one_test_img[0,:] = encoded_imgs[0,:]\n",
    "print(one_test_img.shape)\n",
    "\n",
    "test_G = G.eval(one_test_img)\n",
    "print(test_G.shape)\n",
    "restored = test_G.reshape((1,nx,nx))\n",
    "print(restored.shape)\n",
    "\n",
    "plt.figure()\n",
    "plt.imshow(restored[0])\n"
   ]
  },
  {
   "cell_type": "code",
   "execution_count": 279,
   "id": "c6b4adc5",
   "metadata": {},
   "outputs": [
    {
     "name": "stdout",
     "output_type": "stream",
     "text": [
      "(10, 10)\n"
     ]
    }
   ],
   "source": [
    "xtrue = x_test_small[0].numpy()\n",
    "xtrue_1D = xtrue.reshape((1, -1))\n",
    "print(xtrue.shape)"
   ]
  },
  {
   "cell_type": "code",
   "execution_count": 284,
   "id": "6501943e",
   "metadata": {},
   "outputs": [
    {
     "name": "stdout",
     "output_type": "stream",
     "text": [
      "y (1000,)\n",
      "xc (100,)\n",
      "Dx (100, 10)\n",
      "yp (1000,)\n",
      "Dy (1000, 100)\n",
      "gradc (10,)\n",
      "grad (20,)\n"
     ]
    }
   ],
   "source": [
    "z = np.ones(k)\n",
    "w = 1\n",
    "lmbda = 0\n",
    "sigma = 0\n",
    "\n",
    "xtrue = x_test_small[0].numpy()\n",
    "xtrue_1D = xtrue.flatten()\n",
    "\n",
    "y = A.eval(xtrue_1D) + sigma*np.random.randn(m)\n",
    "\n",
    "#k  = len(z)//2\n",
    "#zc = z[:k] + 1j*z[k:]\n",
    "\n",
    "#print(\"zc\", zc.shape)\n",
    "\n",
    "print(\"y\", y.shape)\n",
    "\n",
    "xc = G.eval(z)\n",
    "Dx = G.jac(z)\n",
    "\n",
    "print(\"xc\", xc.shape)\n",
    "print(\"Dx\", Dx.shape)\n",
    "    \n",
    "yp = A.eval(xc)\n",
    "Dy = A.jac(xc)\n",
    "\n",
    "print(\"yp\", yp.shape)\n",
    "print(\"Dy\", Dy.shape)\n",
    "\n",
    "val    = (0.5)*np.linalg.norm(yp - y)**2 + (0.5*lmbda**2)*np.linalg.norm(w*zc)**2    \n",
    "gradc  = Dx.H@(Dy.H@(yp - y)) + (lmbda**2)*(w*w)*z\n",
    "\n",
    "print(\"gradc\", gradc.shape)\n",
    "    \n",
    "grad  = np.concatenate((np.real(gradc), np.imag(gradc)))\n",
    "\n",
    "print(\"grad\", grad.shape)"
   ]
  },
  {
   "cell_type": "code",
   "execution_count": 29,
   "id": "a1fa354a",
   "metadata": {},
   "outputs": [
    {
     "name": "stdout",
     "output_type": "stream",
     "text": [
      "(100,)\n",
      "xtrue (100,)\n",
      "yobs (1000,)\n",
      "k 110\n",
      "m 1000\n",
      "WARNING:tensorflow:You are casting an input of type complex128 to an incompatible dtype float32.  This will discard the imaginary part and may not be what you intended.\n"
     ]
    },
    {
     "name": "stderr",
     "output_type": "stream",
     "text": [
      "c:\\Users\\Abel\\miniconda3\\envs\\wtf\\lib\\site-packages\\tensorflow\\python\\framework\\constant_op.py:108: ComplexWarning: Casting complex values to real discards the imaginary part\n",
      "  return ops.EagerTensor(value, ctx.device_name, dtype)\n",
      "WARNING: You are casting an input of type complex128 to an incompatible dtype float32.  This will discard the imaginary part and may not be what you intended.\n"
     ]
    },
    {
     "name": "stdout",
     "output_type": "stream",
     "text": [
      "WARNING:tensorflow:You are casting an input of type complex128 to an incompatible dtype float32.  This will discard the imaginary part and may not be what you intended.\n"
     ]
    },
    {
     "name": "stderr",
     "output_type": "stream",
     "text": [
      "WARNING: You are casting an input of type complex128 to an incompatible dtype float32.  This will discard the imaginary part and may not be what you intended.\n"
     ]
    },
    {
     "data": {
      "text/plain": [
       "<matplotlib.image.AxesImage at 0x274d84b61f0>"
      ]
     },
     "execution_count": 29,
     "metadata": {},
     "output_type": "execute_result"
    },
    {
     "data": {
      "image/png": "[encoded data removed]",
      "text/plain": [
       "<Figure size 640x480 with 1 Axes>"
      ]
     },
     "metadata": {},
     "output_type": "display_data"
    },
    {
     "data": {
      "image/png": "[encoded data removed]",
      "text/plain": [
       "<Figure size 640x480 with 1 Axes>"
      ]
     },
     "metadata": {},
     "output_type": "display_data"
    }
   ],
   "source": [
    "# test with l2\n",
    "xtrue = x_test_small[0].numpy()\n",
    "plt.figure()\n",
    "plt.imshow(xtrue)\n",
    "\n",
    "xtrue_1D = xtrue.flatten()\n",
    "print(xtrue_1D.shape)\n",
    "\n",
    "error, xhat_corr, yobs = reconstruct(xtrue_1D, A, H, w=1, sigma=0, lmbda=0)\n",
    "\n",
    "xhat_corr = xhat_corr.reshape((nx,nx))\n",
    "\n",
    "plt.figure()\n",
    "plt.imshow(np.real(xhat_corr))"
   ]
  }
 ],
 "metadata": {
  "kernelspec": {
   "display_name": "wtf",
   "language": "python",
   "name": "python3"
  },
  "language_info": {
   "codemirror_mode": {
    "name": "ipython",
    "version": 3
   },
   "file_extension": ".py",
   "mimetype": "text/x-python",
   "name": "python",
   "nbconvert_exporter": "python",
   "pygments_lexer": "ipython3",
   "version": "3.9.21"
  }
 },
 "nbformat": 4,
 "nbformat_minor": 5
}
